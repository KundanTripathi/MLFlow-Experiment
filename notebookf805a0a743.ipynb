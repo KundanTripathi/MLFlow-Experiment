{
 "cells": [
  {
   "cell_type": "code",
   "execution_count": 1,
   "id": "5d9bbece",
   "metadata": {
    "_cell_guid": "b1076dfc-b9ad-4769-8c92-a6c4dae69d19",
    "_uuid": "8f2839f25d086af736a60e9eeb907d3b93b6e0e5",
    "execution": {
     "iopub.execute_input": "2023-07-14T21:29:07.593898Z",
     "iopub.status.busy": "2023-07-14T21:29:07.592495Z",
     "iopub.status.idle": "2023-07-14T21:29:07.614077Z",
     "shell.execute_reply": "2023-07-14T21:29:07.614722Z",
     "shell.execute_reply.started": "2023-07-14T20:48:40.998565Z"
    },
    "papermill": {
     "duration": 0.065421,
     "end_time": "2023-07-14T21:29:07.615108",
     "exception": false,
     "start_time": "2023-07-14T21:29:07.549687",
     "status": "completed"
    },
    "tags": []
   },
   "outputs": [
    {
     "name": "stdout",
     "output_type": "stream",
     "text": [
      "/kaggle/input/heart-attack/Heart Attack Data Set.csv\n"
     ]
    }
   ],
   "source": [
    "# This Python 3 environment comes with many helpful analytics libraries installed\n",
    "# It is defined by the kaggle/python Docker image: https://github.com/kaggle/docker-python\n",
    "# For example, here's several helpful packages to load\n",
    "\n",
    "import numpy as np # linear algebra\n",
    "import pandas as pd # data processing, CSV file I/O (e.g. pd.read_csv)\n",
    "\n",
    "# Input data files are available in the read-only \"../input/\" directory\n",
    "# For example, running this (by clicking run or pressing Shift+Enter) will list all files under the input directory\n",
    "\n",
    "import os\n",
    "for dirname, _, filenames in os.walk('/kaggle/input'):\n",
    "    for filename in filenames:\n",
    "        print(os.path.join(dirname, filename))\n",
    "\n",
    "# You can write up to 20GB to the current directory (/kaggle/working/) that gets preserved as output when you create a version using \"Save & Run All\" \n",
    "# You can also write temporary files to /kaggle/temp/, but they won't be saved outside of the current session"
   ]
  },
  {
   "cell_type": "code",
   "execution_count": 2,
   "id": "9fc314ae",
   "metadata": {
    "execution": {
     "iopub.execute_input": "2023-07-14T21:29:07.690392Z",
     "iopub.status.busy": "2023-07-14T21:29:07.689583Z",
     "iopub.status.idle": "2023-07-14T21:29:07.708764Z",
     "shell.execute_reply": "2023-07-14T21:29:07.709422Z",
     "shell.execute_reply.started": "2023-07-14T20:48:45.619020Z"
    },
    "papermill": {
     "duration": 0.057352,
     "end_time": "2023-07-14T21:29:07.709630",
     "exception": false,
     "start_time": "2023-07-14T21:29:07.652278",
     "status": "completed"
    },
    "tags": []
   },
   "outputs": [],
   "source": [
    "data = pd.read_csv('/kaggle/input/heart-attack/Heart Attack Data Set.csv')"
   ]
  },
  {
   "cell_type": "code",
   "execution_count": 3,
   "id": "227e2de4",
   "metadata": {
    "execution": {
     "iopub.execute_input": "2023-07-14T21:29:07.783703Z",
     "iopub.status.busy": "2023-07-14T21:29:07.782876Z",
     "iopub.status.idle": "2023-07-14T21:29:07.810030Z",
     "shell.execute_reply": "2023-07-14T21:29:07.809225Z",
     "shell.execute_reply.started": "2023-07-14T20:48:56.899007Z"
    },
    "papermill": {
     "duration": 0.065254,
     "end_time": "2023-07-14T21:29:07.810232",
     "exception": false,
     "start_time": "2023-07-14T21:29:07.744978",
     "status": "completed"
    },
    "tags": []
   },
   "outputs": [
    {
     "data": {
      "text/html": [
       "<div>\n",
       "<style scoped>\n",
       "    .dataframe tbody tr th:only-of-type {\n",
       "        vertical-align: middle;\n",
       "    }\n",
       "\n",
       "    .dataframe tbody tr th {\n",
       "        vertical-align: top;\n",
       "    }\n",
       "\n",
       "    .dataframe thead th {\n",
       "        text-align: right;\n",
       "    }\n",
       "</style>\n",
       "<table border=\"1\" class=\"dataframe\">\n",
       "  <thead>\n",
       "    <tr style=\"text-align: right;\">\n",
       "      <th></th>\n",
       "      <th>age</th>\n",
       "      <th>sex</th>\n",
       "      <th>cp</th>\n",
       "      <th>trestbps</th>\n",
       "      <th>chol</th>\n",
       "      <th>fbs</th>\n",
       "      <th>restecg</th>\n",
       "      <th>thalach</th>\n",
       "      <th>exang</th>\n",
       "      <th>oldpeak</th>\n",
       "      <th>slope</th>\n",
       "      <th>ca</th>\n",
       "      <th>thal</th>\n",
       "      <th>target</th>\n",
       "    </tr>\n",
       "  </thead>\n",
       "  <tbody>\n",
       "    <tr>\n",
       "      <th>0</th>\n",
       "      <td>63</td>\n",
       "      <td>1</td>\n",
       "      <td>3</td>\n",
       "      <td>145</td>\n",
       "      <td>233</td>\n",
       "      <td>1</td>\n",
       "      <td>0</td>\n",
       "      <td>150</td>\n",
       "      <td>0</td>\n",
       "      <td>2.3</td>\n",
       "      <td>0</td>\n",
       "      <td>0</td>\n",
       "      <td>1</td>\n",
       "      <td>1</td>\n",
       "    </tr>\n",
       "    <tr>\n",
       "      <th>1</th>\n",
       "      <td>37</td>\n",
       "      <td>1</td>\n",
       "      <td>2</td>\n",
       "      <td>130</td>\n",
       "      <td>250</td>\n",
       "      <td>0</td>\n",
       "      <td>1</td>\n",
       "      <td>187</td>\n",
       "      <td>0</td>\n",
       "      <td>3.5</td>\n",
       "      <td>0</td>\n",
       "      <td>0</td>\n",
       "      <td>2</td>\n",
       "      <td>1</td>\n",
       "    </tr>\n",
       "    <tr>\n",
       "      <th>2</th>\n",
       "      <td>41</td>\n",
       "      <td>0</td>\n",
       "      <td>1</td>\n",
       "      <td>130</td>\n",
       "      <td>204</td>\n",
       "      <td>0</td>\n",
       "      <td>0</td>\n",
       "      <td>172</td>\n",
       "      <td>0</td>\n",
       "      <td>1.4</td>\n",
       "      <td>2</td>\n",
       "      <td>0</td>\n",
       "      <td>2</td>\n",
       "      <td>1</td>\n",
       "    </tr>\n",
       "    <tr>\n",
       "      <th>3</th>\n",
       "      <td>56</td>\n",
       "      <td>1</td>\n",
       "      <td>1</td>\n",
       "      <td>120</td>\n",
       "      <td>236</td>\n",
       "      <td>0</td>\n",
       "      <td>1</td>\n",
       "      <td>178</td>\n",
       "      <td>0</td>\n",
       "      <td>0.8</td>\n",
       "      <td>2</td>\n",
       "      <td>0</td>\n",
       "      <td>2</td>\n",
       "      <td>1</td>\n",
       "    </tr>\n",
       "    <tr>\n",
       "      <th>4</th>\n",
       "      <td>57</td>\n",
       "      <td>0</td>\n",
       "      <td>0</td>\n",
       "      <td>120</td>\n",
       "      <td>354</td>\n",
       "      <td>0</td>\n",
       "      <td>1</td>\n",
       "      <td>163</td>\n",
       "      <td>1</td>\n",
       "      <td>0.6</td>\n",
       "      <td>2</td>\n",
       "      <td>0</td>\n",
       "      <td>2</td>\n",
       "      <td>1</td>\n",
       "    </tr>\n",
       "  </tbody>\n",
       "</table>\n",
       "</div>"
      ],
      "text/plain": [
       "   age  sex  cp  trestbps  chol  fbs  restecg  thalach  exang  oldpeak  slope  \\\n",
       "0   63    1   3       145   233    1        0      150      0      2.3      0   \n",
       "1   37    1   2       130   250    0        1      187      0      3.5      0   \n",
       "2   41    0   1       130   204    0        0      172      0      1.4      2   \n",
       "3   56    1   1       120   236    0        1      178      0      0.8      2   \n",
       "4   57    0   0       120   354    0        1      163      1      0.6      2   \n",
       "\n",
       "   ca  thal  target  \n",
       "0   0     1       1  \n",
       "1   0     2       1  \n",
       "2   0     2       1  \n",
       "3   0     2       1  \n",
       "4   0     2       1  "
      ]
     },
     "execution_count": 3,
     "metadata": {},
     "output_type": "execute_result"
    }
   ],
   "source": [
    "data.head()"
   ]
  },
  {
   "cell_type": "code",
   "execution_count": 4,
   "id": "1cab8593",
   "metadata": {
    "execution": {
     "iopub.execute_input": "2023-07-14T21:29:07.892647Z",
     "iopub.status.busy": "2023-07-14T21:29:07.891768Z",
     "iopub.status.idle": "2023-07-14T21:29:07.912295Z",
     "shell.execute_reply": "2023-07-14T21:29:07.912882Z",
     "shell.execute_reply.started": "2023-07-14T20:49:05.244548Z"
    },
    "papermill": {
     "duration": 0.065886,
     "end_time": "2023-07-14T21:29:07.913116",
     "exception": false,
     "start_time": "2023-07-14T21:29:07.847230",
     "status": "completed"
    },
    "tags": []
   },
   "outputs": [
    {
     "name": "stdout",
     "output_type": "stream",
     "text": [
      "<class 'pandas.core.frame.DataFrame'>\n",
      "RangeIndex: 303 entries, 0 to 302\n",
      "Data columns (total 14 columns):\n",
      " #   Column    Non-Null Count  Dtype  \n",
      "---  ------    --------------  -----  \n",
      " 0   age       303 non-null    int64  \n",
      " 1   sex       303 non-null    int64  \n",
      " 2   cp        303 non-null    int64  \n",
      " 3   trestbps  303 non-null    int64  \n",
      " 4   chol      303 non-null    int64  \n",
      " 5   fbs       303 non-null    int64  \n",
      " 6   restecg   303 non-null    int64  \n",
      " 7   thalach   303 non-null    int64  \n",
      " 8   exang     303 non-null    int64  \n",
      " 9   oldpeak   303 non-null    float64\n",
      " 10  slope     303 non-null    int64  \n",
      " 11  ca        303 non-null    int64  \n",
      " 12  thal      303 non-null    int64  \n",
      " 13  target    303 non-null    int64  \n",
      "dtypes: float64(1), int64(13)\n",
      "memory usage: 33.3 KB\n"
     ]
    }
   ],
   "source": [
    "data.info()"
   ]
  },
  {
   "cell_type": "code",
   "execution_count": 5,
   "id": "766c2350",
   "metadata": {
    "execution": {
     "iopub.execute_input": "2023-07-14T21:29:07.992094Z",
     "iopub.status.busy": "2023-07-14T21:29:07.991296Z",
     "iopub.status.idle": "2023-07-14T21:29:08.051283Z",
     "shell.execute_reply": "2023-07-14T21:29:08.050653Z",
     "shell.execute_reply.started": "2023-07-14T20:49:10.980211Z"
    },
    "papermill": {
     "duration": 0.102044,
     "end_time": "2023-07-14T21:29:08.051466",
     "exception": false,
     "start_time": "2023-07-14T21:29:07.949422",
     "status": "completed"
    },
    "tags": []
   },
   "outputs": [
    {
     "data": {
      "text/html": [
       "<div>\n",
       "<style scoped>\n",
       "    .dataframe tbody tr th:only-of-type {\n",
       "        vertical-align: middle;\n",
       "    }\n",
       "\n",
       "    .dataframe tbody tr th {\n",
       "        vertical-align: top;\n",
       "    }\n",
       "\n",
       "    .dataframe thead th {\n",
       "        text-align: right;\n",
       "    }\n",
       "</style>\n",
       "<table border=\"1\" class=\"dataframe\">\n",
       "  <thead>\n",
       "    <tr style=\"text-align: right;\">\n",
       "      <th></th>\n",
       "      <th>count</th>\n",
       "      <th>mean</th>\n",
       "      <th>std</th>\n",
       "      <th>min</th>\n",
       "      <th>25%</th>\n",
       "      <th>50%</th>\n",
       "      <th>75%</th>\n",
       "      <th>max</th>\n",
       "    </tr>\n",
       "  </thead>\n",
       "  <tbody>\n",
       "    <tr>\n",
       "      <th>age</th>\n",
       "      <td>303.0</td>\n",
       "      <td>54.366337</td>\n",
       "      <td>9.082101</td>\n",
       "      <td>29.0</td>\n",
       "      <td>47.5</td>\n",
       "      <td>55.0</td>\n",
       "      <td>61.0</td>\n",
       "      <td>77.0</td>\n",
       "    </tr>\n",
       "    <tr>\n",
       "      <th>sex</th>\n",
       "      <td>303.0</td>\n",
       "      <td>0.683168</td>\n",
       "      <td>0.466011</td>\n",
       "      <td>0.0</td>\n",
       "      <td>0.0</td>\n",
       "      <td>1.0</td>\n",
       "      <td>1.0</td>\n",
       "      <td>1.0</td>\n",
       "    </tr>\n",
       "    <tr>\n",
       "      <th>cp</th>\n",
       "      <td>303.0</td>\n",
       "      <td>0.966997</td>\n",
       "      <td>1.032052</td>\n",
       "      <td>0.0</td>\n",
       "      <td>0.0</td>\n",
       "      <td>1.0</td>\n",
       "      <td>2.0</td>\n",
       "      <td>3.0</td>\n",
       "    </tr>\n",
       "    <tr>\n",
       "      <th>trestbps</th>\n",
       "      <td>303.0</td>\n",
       "      <td>131.623762</td>\n",
       "      <td>17.538143</td>\n",
       "      <td>94.0</td>\n",
       "      <td>120.0</td>\n",
       "      <td>130.0</td>\n",
       "      <td>140.0</td>\n",
       "      <td>200.0</td>\n",
       "    </tr>\n",
       "    <tr>\n",
       "      <th>chol</th>\n",
       "      <td>303.0</td>\n",
       "      <td>246.264026</td>\n",
       "      <td>51.830751</td>\n",
       "      <td>126.0</td>\n",
       "      <td>211.0</td>\n",
       "      <td>240.0</td>\n",
       "      <td>274.5</td>\n",
       "      <td>564.0</td>\n",
       "    </tr>\n",
       "    <tr>\n",
       "      <th>fbs</th>\n",
       "      <td>303.0</td>\n",
       "      <td>0.148515</td>\n",
       "      <td>0.356198</td>\n",
       "      <td>0.0</td>\n",
       "      <td>0.0</td>\n",
       "      <td>0.0</td>\n",
       "      <td>0.0</td>\n",
       "      <td>1.0</td>\n",
       "    </tr>\n",
       "    <tr>\n",
       "      <th>restecg</th>\n",
       "      <td>303.0</td>\n",
       "      <td>0.528053</td>\n",
       "      <td>0.525860</td>\n",
       "      <td>0.0</td>\n",
       "      <td>0.0</td>\n",
       "      <td>1.0</td>\n",
       "      <td>1.0</td>\n",
       "      <td>2.0</td>\n",
       "    </tr>\n",
       "    <tr>\n",
       "      <th>thalach</th>\n",
       "      <td>303.0</td>\n",
       "      <td>149.646865</td>\n",
       "      <td>22.905161</td>\n",
       "      <td>71.0</td>\n",
       "      <td>133.5</td>\n",
       "      <td>153.0</td>\n",
       "      <td>166.0</td>\n",
       "      <td>202.0</td>\n",
       "    </tr>\n",
       "    <tr>\n",
       "      <th>exang</th>\n",
       "      <td>303.0</td>\n",
       "      <td>0.326733</td>\n",
       "      <td>0.469794</td>\n",
       "      <td>0.0</td>\n",
       "      <td>0.0</td>\n",
       "      <td>0.0</td>\n",
       "      <td>1.0</td>\n",
       "      <td>1.0</td>\n",
       "    </tr>\n",
       "    <tr>\n",
       "      <th>oldpeak</th>\n",
       "      <td>303.0</td>\n",
       "      <td>1.039604</td>\n",
       "      <td>1.161075</td>\n",
       "      <td>0.0</td>\n",
       "      <td>0.0</td>\n",
       "      <td>0.8</td>\n",
       "      <td>1.6</td>\n",
       "      <td>6.2</td>\n",
       "    </tr>\n",
       "    <tr>\n",
       "      <th>slope</th>\n",
       "      <td>303.0</td>\n",
       "      <td>1.399340</td>\n",
       "      <td>0.616226</td>\n",
       "      <td>0.0</td>\n",
       "      <td>1.0</td>\n",
       "      <td>1.0</td>\n",
       "      <td>2.0</td>\n",
       "      <td>2.0</td>\n",
       "    </tr>\n",
       "    <tr>\n",
       "      <th>ca</th>\n",
       "      <td>303.0</td>\n",
       "      <td>0.729373</td>\n",
       "      <td>1.022606</td>\n",
       "      <td>0.0</td>\n",
       "      <td>0.0</td>\n",
       "      <td>0.0</td>\n",
       "      <td>1.0</td>\n",
       "      <td>4.0</td>\n",
       "    </tr>\n",
       "    <tr>\n",
       "      <th>thal</th>\n",
       "      <td>303.0</td>\n",
       "      <td>2.313531</td>\n",
       "      <td>0.612277</td>\n",
       "      <td>0.0</td>\n",
       "      <td>2.0</td>\n",
       "      <td>2.0</td>\n",
       "      <td>3.0</td>\n",
       "      <td>3.0</td>\n",
       "    </tr>\n",
       "    <tr>\n",
       "      <th>target</th>\n",
       "      <td>303.0</td>\n",
       "      <td>0.544554</td>\n",
       "      <td>0.498835</td>\n",
       "      <td>0.0</td>\n",
       "      <td>0.0</td>\n",
       "      <td>1.0</td>\n",
       "      <td>1.0</td>\n",
       "      <td>1.0</td>\n",
       "    </tr>\n",
       "  </tbody>\n",
       "</table>\n",
       "</div>"
      ],
      "text/plain": [
       "          count        mean        std    min    25%    50%    75%    max\n",
       "age       303.0   54.366337   9.082101   29.0   47.5   55.0   61.0   77.0\n",
       "sex       303.0    0.683168   0.466011    0.0    0.0    1.0    1.0    1.0\n",
       "cp        303.0    0.966997   1.032052    0.0    0.0    1.0    2.0    3.0\n",
       "trestbps  303.0  131.623762  17.538143   94.0  120.0  130.0  140.0  200.0\n",
       "chol      303.0  246.264026  51.830751  126.0  211.0  240.0  274.5  564.0\n",
       "fbs       303.0    0.148515   0.356198    0.0    0.0    0.0    0.0    1.0\n",
       "restecg   303.0    0.528053   0.525860    0.0    0.0    1.0    1.0    2.0\n",
       "thalach   303.0  149.646865  22.905161   71.0  133.5  153.0  166.0  202.0\n",
       "exang     303.0    0.326733   0.469794    0.0    0.0    0.0    1.0    1.0\n",
       "oldpeak   303.0    1.039604   1.161075    0.0    0.0    0.8    1.6    6.2\n",
       "slope     303.0    1.399340   0.616226    0.0    1.0    1.0    2.0    2.0\n",
       "ca        303.0    0.729373   1.022606    0.0    0.0    0.0    1.0    4.0\n",
       "thal      303.0    2.313531   0.612277    0.0    2.0    2.0    3.0    3.0\n",
       "target    303.0    0.544554   0.498835    0.0    0.0    1.0    1.0    1.0"
      ]
     },
     "execution_count": 5,
     "metadata": {},
     "output_type": "execute_result"
    }
   ],
   "source": [
    "data.describe().T"
   ]
  },
  {
   "cell_type": "code",
   "execution_count": 6,
   "id": "1cd15605",
   "metadata": {
    "execution": {
     "iopub.execute_input": "2023-07-14T21:29:08.131150Z",
     "iopub.status.busy": "2023-07-14T21:29:08.130061Z",
     "iopub.status.idle": "2023-07-14T21:29:08.160365Z",
     "shell.execute_reply": "2023-07-14T21:29:08.160958Z",
     "shell.execute_reply.started": "2023-07-14T20:49:14.208528Z"
    },
    "papermill": {
     "duration": 0.071112,
     "end_time": "2023-07-14T21:29:08.161183",
     "exception": false,
     "start_time": "2023-07-14T21:29:08.090071",
     "status": "completed"
    },
    "tags": []
   },
   "outputs": [
    {
     "data": {
      "text/html": [
       "<div>\n",
       "<style scoped>\n",
       "    .dataframe tbody tr th:only-of-type {\n",
       "        vertical-align: middle;\n",
       "    }\n",
       "\n",
       "    .dataframe tbody tr th {\n",
       "        vertical-align: top;\n",
       "    }\n",
       "\n",
       "    .dataframe thead th {\n",
       "        text-align: right;\n",
       "    }\n",
       "</style>\n",
       "<table border=\"1\" class=\"dataframe\">\n",
       "  <thead>\n",
       "    <tr style=\"text-align: right;\">\n",
       "      <th></th>\n",
       "      <th>age</th>\n",
       "      <th>sex</th>\n",
       "      <th>cp</th>\n",
       "      <th>trestbps</th>\n",
       "      <th>chol</th>\n",
       "      <th>fbs</th>\n",
       "      <th>restecg</th>\n",
       "      <th>thalach</th>\n",
       "      <th>exang</th>\n",
       "      <th>oldpeak</th>\n",
       "      <th>slope</th>\n",
       "      <th>ca</th>\n",
       "      <th>thal</th>\n",
       "      <th>target</th>\n",
       "    </tr>\n",
       "  </thead>\n",
       "  <tbody>\n",
       "    <tr>\n",
       "      <th>age</th>\n",
       "      <td>1.000000</td>\n",
       "      <td>-0.098447</td>\n",
       "      <td>-0.068653</td>\n",
       "      <td>0.279351</td>\n",
       "      <td>0.213678</td>\n",
       "      <td>0.121308</td>\n",
       "      <td>-0.116211</td>\n",
       "      <td>-0.398522</td>\n",
       "      <td>0.096801</td>\n",
       "      <td>0.210013</td>\n",
       "      <td>-0.168814</td>\n",
       "      <td>0.276326</td>\n",
       "      <td>0.068001</td>\n",
       "      <td>-0.225439</td>\n",
       "    </tr>\n",
       "    <tr>\n",
       "      <th>sex</th>\n",
       "      <td>-0.098447</td>\n",
       "      <td>1.000000</td>\n",
       "      <td>-0.049353</td>\n",
       "      <td>-0.056769</td>\n",
       "      <td>-0.197912</td>\n",
       "      <td>0.045032</td>\n",
       "      <td>-0.058196</td>\n",
       "      <td>-0.044020</td>\n",
       "      <td>0.141664</td>\n",
       "      <td>0.096093</td>\n",
       "      <td>-0.030711</td>\n",
       "      <td>0.118261</td>\n",
       "      <td>0.210041</td>\n",
       "      <td>-0.280937</td>\n",
       "    </tr>\n",
       "    <tr>\n",
       "      <th>cp</th>\n",
       "      <td>-0.068653</td>\n",
       "      <td>-0.049353</td>\n",
       "      <td>1.000000</td>\n",
       "      <td>0.047608</td>\n",
       "      <td>-0.076904</td>\n",
       "      <td>0.094444</td>\n",
       "      <td>0.044421</td>\n",
       "      <td>0.295762</td>\n",
       "      <td>-0.394280</td>\n",
       "      <td>-0.149230</td>\n",
       "      <td>0.119717</td>\n",
       "      <td>-0.181053</td>\n",
       "      <td>-0.161736</td>\n",
       "      <td>0.433798</td>\n",
       "    </tr>\n",
       "    <tr>\n",
       "      <th>trestbps</th>\n",
       "      <td>0.279351</td>\n",
       "      <td>-0.056769</td>\n",
       "      <td>0.047608</td>\n",
       "      <td>1.000000</td>\n",
       "      <td>0.123174</td>\n",
       "      <td>0.177531</td>\n",
       "      <td>-0.114103</td>\n",
       "      <td>-0.046698</td>\n",
       "      <td>0.067616</td>\n",
       "      <td>0.193216</td>\n",
       "      <td>-0.121475</td>\n",
       "      <td>0.101389</td>\n",
       "      <td>0.062210</td>\n",
       "      <td>-0.144931</td>\n",
       "    </tr>\n",
       "    <tr>\n",
       "      <th>chol</th>\n",
       "      <td>0.213678</td>\n",
       "      <td>-0.197912</td>\n",
       "      <td>-0.076904</td>\n",
       "      <td>0.123174</td>\n",
       "      <td>1.000000</td>\n",
       "      <td>0.013294</td>\n",
       "      <td>-0.151040</td>\n",
       "      <td>-0.009940</td>\n",
       "      <td>0.067023</td>\n",
       "      <td>0.053952</td>\n",
       "      <td>-0.004038</td>\n",
       "      <td>0.070511</td>\n",
       "      <td>0.098803</td>\n",
       "      <td>-0.085239</td>\n",
       "    </tr>\n",
       "    <tr>\n",
       "      <th>fbs</th>\n",
       "      <td>0.121308</td>\n",
       "      <td>0.045032</td>\n",
       "      <td>0.094444</td>\n",
       "      <td>0.177531</td>\n",
       "      <td>0.013294</td>\n",
       "      <td>1.000000</td>\n",
       "      <td>-0.084189</td>\n",
       "      <td>-0.008567</td>\n",
       "      <td>0.025665</td>\n",
       "      <td>0.005747</td>\n",
       "      <td>-0.059894</td>\n",
       "      <td>0.137979</td>\n",
       "      <td>-0.032019</td>\n",
       "      <td>-0.028046</td>\n",
       "    </tr>\n",
       "    <tr>\n",
       "      <th>restecg</th>\n",
       "      <td>-0.116211</td>\n",
       "      <td>-0.058196</td>\n",
       "      <td>0.044421</td>\n",
       "      <td>-0.114103</td>\n",
       "      <td>-0.151040</td>\n",
       "      <td>-0.084189</td>\n",
       "      <td>1.000000</td>\n",
       "      <td>0.044123</td>\n",
       "      <td>-0.070733</td>\n",
       "      <td>-0.058770</td>\n",
       "      <td>0.093045</td>\n",
       "      <td>-0.072042</td>\n",
       "      <td>-0.011981</td>\n",
       "      <td>0.137230</td>\n",
       "    </tr>\n",
       "    <tr>\n",
       "      <th>thalach</th>\n",
       "      <td>-0.398522</td>\n",
       "      <td>-0.044020</td>\n",
       "      <td>0.295762</td>\n",
       "      <td>-0.046698</td>\n",
       "      <td>-0.009940</td>\n",
       "      <td>-0.008567</td>\n",
       "      <td>0.044123</td>\n",
       "      <td>1.000000</td>\n",
       "      <td>-0.378812</td>\n",
       "      <td>-0.344187</td>\n",
       "      <td>0.386784</td>\n",
       "      <td>-0.213177</td>\n",
       "      <td>-0.096439</td>\n",
       "      <td>0.421741</td>\n",
       "    </tr>\n",
       "    <tr>\n",
       "      <th>exang</th>\n",
       "      <td>0.096801</td>\n",
       "      <td>0.141664</td>\n",
       "      <td>-0.394280</td>\n",
       "      <td>0.067616</td>\n",
       "      <td>0.067023</td>\n",
       "      <td>0.025665</td>\n",
       "      <td>-0.070733</td>\n",
       "      <td>-0.378812</td>\n",
       "      <td>1.000000</td>\n",
       "      <td>0.288223</td>\n",
       "      <td>-0.257748</td>\n",
       "      <td>0.115739</td>\n",
       "      <td>0.206754</td>\n",
       "      <td>-0.436757</td>\n",
       "    </tr>\n",
       "    <tr>\n",
       "      <th>oldpeak</th>\n",
       "      <td>0.210013</td>\n",
       "      <td>0.096093</td>\n",
       "      <td>-0.149230</td>\n",
       "      <td>0.193216</td>\n",
       "      <td>0.053952</td>\n",
       "      <td>0.005747</td>\n",
       "      <td>-0.058770</td>\n",
       "      <td>-0.344187</td>\n",
       "      <td>0.288223</td>\n",
       "      <td>1.000000</td>\n",
       "      <td>-0.577537</td>\n",
       "      <td>0.222682</td>\n",
       "      <td>0.210244</td>\n",
       "      <td>-0.430696</td>\n",
       "    </tr>\n",
       "    <tr>\n",
       "      <th>slope</th>\n",
       "      <td>-0.168814</td>\n",
       "      <td>-0.030711</td>\n",
       "      <td>0.119717</td>\n",
       "      <td>-0.121475</td>\n",
       "      <td>-0.004038</td>\n",
       "      <td>-0.059894</td>\n",
       "      <td>0.093045</td>\n",
       "      <td>0.386784</td>\n",
       "      <td>-0.257748</td>\n",
       "      <td>-0.577537</td>\n",
       "      <td>1.000000</td>\n",
       "      <td>-0.080155</td>\n",
       "      <td>-0.104764</td>\n",
       "      <td>0.345877</td>\n",
       "    </tr>\n",
       "    <tr>\n",
       "      <th>ca</th>\n",
       "      <td>0.276326</td>\n",
       "      <td>0.118261</td>\n",
       "      <td>-0.181053</td>\n",
       "      <td>0.101389</td>\n",
       "      <td>0.070511</td>\n",
       "      <td>0.137979</td>\n",
       "      <td>-0.072042</td>\n",
       "      <td>-0.213177</td>\n",
       "      <td>0.115739</td>\n",
       "      <td>0.222682</td>\n",
       "      <td>-0.080155</td>\n",
       "      <td>1.000000</td>\n",
       "      <td>0.151832</td>\n",
       "      <td>-0.391724</td>\n",
       "    </tr>\n",
       "    <tr>\n",
       "      <th>thal</th>\n",
       "      <td>0.068001</td>\n",
       "      <td>0.210041</td>\n",
       "      <td>-0.161736</td>\n",
       "      <td>0.062210</td>\n",
       "      <td>0.098803</td>\n",
       "      <td>-0.032019</td>\n",
       "      <td>-0.011981</td>\n",
       "      <td>-0.096439</td>\n",
       "      <td>0.206754</td>\n",
       "      <td>0.210244</td>\n",
       "      <td>-0.104764</td>\n",
       "      <td>0.151832</td>\n",
       "      <td>1.000000</td>\n",
       "      <td>-0.344029</td>\n",
       "    </tr>\n",
       "    <tr>\n",
       "      <th>target</th>\n",
       "      <td>-0.225439</td>\n",
       "      <td>-0.280937</td>\n",
       "      <td>0.433798</td>\n",
       "      <td>-0.144931</td>\n",
       "      <td>-0.085239</td>\n",
       "      <td>-0.028046</td>\n",
       "      <td>0.137230</td>\n",
       "      <td>0.421741</td>\n",
       "      <td>-0.436757</td>\n",
       "      <td>-0.430696</td>\n",
       "      <td>0.345877</td>\n",
       "      <td>-0.391724</td>\n",
       "      <td>-0.344029</td>\n",
       "      <td>1.000000</td>\n",
       "    </tr>\n",
       "  </tbody>\n",
       "</table>\n",
       "</div>"
      ],
      "text/plain": [
       "               age       sex        cp  trestbps      chol       fbs  \\\n",
       "age       1.000000 -0.098447 -0.068653  0.279351  0.213678  0.121308   \n",
       "sex      -0.098447  1.000000 -0.049353 -0.056769 -0.197912  0.045032   \n",
       "cp       -0.068653 -0.049353  1.000000  0.047608 -0.076904  0.094444   \n",
       "trestbps  0.279351 -0.056769  0.047608  1.000000  0.123174  0.177531   \n",
       "chol      0.213678 -0.197912 -0.076904  0.123174  1.000000  0.013294   \n",
       "fbs       0.121308  0.045032  0.094444  0.177531  0.013294  1.000000   \n",
       "restecg  -0.116211 -0.058196  0.044421 -0.114103 -0.151040 -0.084189   \n",
       "thalach  -0.398522 -0.044020  0.295762 -0.046698 -0.009940 -0.008567   \n",
       "exang     0.096801  0.141664 -0.394280  0.067616  0.067023  0.025665   \n",
       "oldpeak   0.210013  0.096093 -0.149230  0.193216  0.053952  0.005747   \n",
       "slope    -0.168814 -0.030711  0.119717 -0.121475 -0.004038 -0.059894   \n",
       "ca        0.276326  0.118261 -0.181053  0.101389  0.070511  0.137979   \n",
       "thal      0.068001  0.210041 -0.161736  0.062210  0.098803 -0.032019   \n",
       "target   -0.225439 -0.280937  0.433798 -0.144931 -0.085239 -0.028046   \n",
       "\n",
       "           restecg   thalach     exang   oldpeak     slope        ca  \\\n",
       "age      -0.116211 -0.398522  0.096801  0.210013 -0.168814  0.276326   \n",
       "sex      -0.058196 -0.044020  0.141664  0.096093 -0.030711  0.118261   \n",
       "cp        0.044421  0.295762 -0.394280 -0.149230  0.119717 -0.181053   \n",
       "trestbps -0.114103 -0.046698  0.067616  0.193216 -0.121475  0.101389   \n",
       "chol     -0.151040 -0.009940  0.067023  0.053952 -0.004038  0.070511   \n",
       "fbs      -0.084189 -0.008567  0.025665  0.005747 -0.059894  0.137979   \n",
       "restecg   1.000000  0.044123 -0.070733 -0.058770  0.093045 -0.072042   \n",
       "thalach   0.044123  1.000000 -0.378812 -0.344187  0.386784 -0.213177   \n",
       "exang    -0.070733 -0.378812  1.000000  0.288223 -0.257748  0.115739   \n",
       "oldpeak  -0.058770 -0.344187  0.288223  1.000000 -0.577537  0.222682   \n",
       "slope     0.093045  0.386784 -0.257748 -0.577537  1.000000 -0.080155   \n",
       "ca       -0.072042 -0.213177  0.115739  0.222682 -0.080155  1.000000   \n",
       "thal     -0.011981 -0.096439  0.206754  0.210244 -0.104764  0.151832   \n",
       "target    0.137230  0.421741 -0.436757 -0.430696  0.345877 -0.391724   \n",
       "\n",
       "              thal    target  \n",
       "age       0.068001 -0.225439  \n",
       "sex       0.210041 -0.280937  \n",
       "cp       -0.161736  0.433798  \n",
       "trestbps  0.062210 -0.144931  \n",
       "chol      0.098803 -0.085239  \n",
       "fbs      -0.032019 -0.028046  \n",
       "restecg  -0.011981  0.137230  \n",
       "thalach  -0.096439  0.421741  \n",
       "exang     0.206754 -0.436757  \n",
       "oldpeak   0.210244 -0.430696  \n",
       "slope    -0.104764  0.345877  \n",
       "ca        0.151832 -0.391724  \n",
       "thal      1.000000 -0.344029  \n",
       "target   -0.344029  1.000000  "
      ]
     },
     "execution_count": 6,
     "metadata": {},
     "output_type": "execute_result"
    }
   ],
   "source": [
    "data.corr()"
   ]
  },
  {
   "cell_type": "code",
   "execution_count": 7,
   "id": "c85f136f",
   "metadata": {
    "execution": {
     "iopub.execute_input": "2023-07-14T21:29:08.241832Z",
     "iopub.status.busy": "2023-07-14T21:29:08.240738Z",
     "iopub.status.idle": "2023-07-14T21:29:09.345540Z",
     "shell.execute_reply": "2023-07-14T21:29:09.344854Z",
     "shell.execute_reply.started": "2023-07-14T20:49:18.056333Z"
    },
    "papermill": {
     "duration": 1.146012,
     "end_time": "2023-07-14T21:29:09.345731",
     "exception": false,
     "start_time": "2023-07-14T21:29:08.199719",
     "status": "completed"
    },
    "tags": []
   },
   "outputs": [],
   "source": [
    "import matplotlib as plt\n",
    "import seaborn as sns\n",
    "%matplotlib inline "
   ]
  },
  {
   "cell_type": "code",
   "execution_count": 8,
   "id": "db91a6c7",
   "metadata": {
    "execution": {
     "iopub.execute_input": "2023-07-14T21:29:09.445985Z",
     "iopub.status.busy": "2023-07-14T21:29:09.439837Z",
     "iopub.status.idle": "2023-07-14T21:29:11.170737Z",
     "shell.execute_reply": "2023-07-14T21:29:11.171353Z",
     "shell.execute_reply.started": "2023-07-14T20:49:21.030963Z"
    },
    "papermill": {
     "duration": 1.788262,
     "end_time": "2023-07-14T21:29:11.171556",
     "exception": false,
     "start_time": "2023-07-14T21:29:09.383294",
     "status": "completed"
    },
    "tags": []
   },
   "outputs": [
    {
     "data": {
      "text/plain": [
       "<AxesSubplot:>"
      ]
     },
     "execution_count": 8,
     "metadata": {},
     "output_type": "execute_result"
    },
    {
     "data": {
      "image/png": "[encoded data removed]",
      "text/plain": [
       "<Figure size 720x720 with 2 Axes>"
      ]
     },
     "metadata": {
      "needs_background": "light"
     },
     "output_type": "display_data"
    }
   ],
   "source": [
    "fig, ax = plt.pyplot.subplots(figsize = (10,10))\n",
    "sns.heatmap(data.corr(), cmap = 'YlGnBu', annot = True, ax = ax)"
   ]
  },
  {
   "cell_type": "code",
   "execution_count": 9,
   "id": "d95bdbd7",
   "metadata": {
    "execution": {
     "iopub.execute_input": "2023-07-14T21:29:11.262818Z",
     "iopub.status.busy": "2023-07-14T21:29:11.262009Z",
     "iopub.status.idle": "2023-07-14T21:29:11.281392Z",
     "shell.execute_reply": "2023-07-14T21:29:11.280754Z",
     "shell.execute_reply.started": "2023-07-14T20:49:28.634156Z"
    },
    "papermill": {
     "duration": 0.068105,
     "end_time": "2023-07-14T21:29:11.281576",
     "exception": false,
     "start_time": "2023-07-14T21:29:11.213471",
     "status": "completed"
    },
    "tags": []
   },
   "outputs": [
    {
     "data": {
      "text/html": [
       "<div>\n",
       "<style scoped>\n",
       "    .dataframe tbody tr th:only-of-type {\n",
       "        vertical-align: middle;\n",
       "    }\n",
       "\n",
       "    .dataframe tbody tr th {\n",
       "        vertical-align: top;\n",
       "    }\n",
       "\n",
       "    .dataframe thead th {\n",
       "        text-align: right;\n",
       "    }\n",
       "</style>\n",
       "<table border=\"1\" class=\"dataframe\">\n",
       "  <thead>\n",
       "    <tr style=\"text-align: right;\">\n",
       "      <th></th>\n",
       "      <th>age</th>\n",
       "      <th>sex</th>\n",
       "      <th>cp</th>\n",
       "      <th>trestbps</th>\n",
       "      <th>chol</th>\n",
       "      <th>fbs</th>\n",
       "      <th>restecg</th>\n",
       "      <th>thalach</th>\n",
       "      <th>exang</th>\n",
       "      <th>oldpeak</th>\n",
       "      <th>slope</th>\n",
       "      <th>ca</th>\n",
       "      <th>thal</th>\n",
       "      <th>target</th>\n",
       "    </tr>\n",
       "  </thead>\n",
       "  <tbody>\n",
       "    <tr>\n",
       "      <th>164</th>\n",
       "      <td>38</td>\n",
       "      <td>1</td>\n",
       "      <td>2</td>\n",
       "      <td>138</td>\n",
       "      <td>175</td>\n",
       "      <td>0</td>\n",
       "      <td>1</td>\n",
       "      <td>173</td>\n",
       "      <td>0</td>\n",
       "      <td>0.0</td>\n",
       "      <td>2</td>\n",
       "      <td>4</td>\n",
       "      <td>2</td>\n",
       "      <td>1</td>\n",
       "    </tr>\n",
       "  </tbody>\n",
       "</table>\n",
       "</div>"
      ],
      "text/plain": [
       "     age  sex  cp  trestbps  chol  fbs  restecg  thalach  exang  oldpeak  \\\n",
       "164   38    1   2       138   175    0        1      173      0      0.0   \n",
       "\n",
       "     slope  ca  thal  target  \n",
       "164      2   4     2       1  "
      ]
     },
     "execution_count": 9,
     "metadata": {},
     "output_type": "execute_result"
    }
   ],
   "source": [
    "data[data.duplicated()]"
   ]
  },
  {
   "cell_type": "code",
   "execution_count": 10,
   "id": "294ffe75",
   "metadata": {
    "execution": {
     "iopub.execute_input": "2023-07-14T21:29:11.371213Z",
     "iopub.status.busy": "2023-07-14T21:29:11.370403Z",
     "iopub.status.idle": "2023-07-14T21:29:11.376539Z",
     "shell.execute_reply": "2023-07-14T21:29:11.375738Z",
     "shell.execute_reply.started": "2023-07-14T20:49:31.459855Z"
    },
    "papermill": {
     "duration": 0.052769,
     "end_time": "2023-07-14T21:29:11.376711",
     "exception": false,
     "start_time": "2023-07-14T21:29:11.323942",
     "status": "completed"
    },
    "tags": []
   },
   "outputs": [
    {
     "name": "stdout",
     "output_type": "stream",
     "text": [
      "(303, 14)\n"
     ]
    }
   ],
   "source": [
    "print(data.shape)"
   ]
  },
  {
   "cell_type": "code",
   "execution_count": 11,
   "id": "13905c7a",
   "metadata": {
    "execution": {
     "iopub.execute_input": "2023-07-14T21:29:11.473169Z",
     "iopub.status.busy": "2023-07-14T21:29:11.467686Z",
     "iopub.status.idle": "2023-07-14T21:29:11.475954Z",
     "shell.execute_reply": "2023-07-14T21:29:11.476694Z",
     "shell.execute_reply.started": "2023-07-14T20:49:35.795613Z"
    },
    "papermill": {
     "duration": 0.057424,
     "end_time": "2023-07-14T21:29:11.476897",
     "exception": false,
     "start_time": "2023-07-14T21:29:11.419473",
     "status": "completed"
    },
    "tags": []
   },
   "outputs": [],
   "source": [
    "data.drop_duplicates(inplace = True)"
   ]
  },
  {
   "cell_type": "code",
   "execution_count": 12,
   "id": "0505a5ab",
   "metadata": {
    "execution": {
     "iopub.execute_input": "2023-07-14T21:29:11.568317Z",
     "iopub.status.busy": "2023-07-14T21:29:11.567481Z",
     "iopub.status.idle": "2023-07-14T21:29:11.571399Z",
     "shell.execute_reply": "2023-07-14T21:29:11.571993Z",
     "shell.execute_reply.started": "2023-07-14T20:49:38.416248Z"
    },
    "papermill": {
     "duration": 0.052667,
     "end_time": "2023-07-14T21:29:11.572221",
     "exception": false,
     "start_time": "2023-07-14T21:29:11.519554",
     "status": "completed"
    },
    "tags": []
   },
   "outputs": [
    {
     "name": "stdout",
     "output_type": "stream",
     "text": [
      "(302, 14)\n"
     ]
    }
   ],
   "source": [
    "print(data.shape)"
   ]
  },
  {
   "cell_type": "code",
   "execution_count": 13,
   "id": "50d89c23",
   "metadata": {
    "execution": {
     "iopub.execute_input": "2023-07-14T21:29:11.662518Z",
     "iopub.status.busy": "2023-07-14T21:29:11.661741Z",
     "iopub.status.idle": "2023-07-14T21:29:13.337858Z",
     "shell.execute_reply": "2023-07-14T21:29:13.337185Z",
     "shell.execute_reply.started": "2023-07-14T20:49:45.651520Z"
    },
    "papermill": {
     "duration": 1.723008,
     "end_time": "2023-07-14T21:29:13.338044",
     "exception": false,
     "start_time": "2023-07-14T21:29:11.615036",
     "status": "completed"
    },
    "tags": []
   },
   "outputs": [
    {
     "data": {
      "text/html": [
       "<style type='text/css'>\n",
       ".datatable table.frame { margin-bottom: 0; }\n",
       ".datatable table.frame thead { border-bottom: none; }\n",
       ".datatable table.frame tr.coltypes td {  color: #FFFFFF;  line-height: 6px;  padding: 0 0.5em;}\n",
       ".datatable .bool    { background: #DDDD99; }\n",
       ".datatable .object  { background: #565656; }\n",
       ".datatable .int     { background: #5D9E5D; }\n",
       ".datatable .float   { background: #4040CC; }\n",
       ".datatable .str     { background: #CC4040; }\n",
       ".datatable .time    { background: #40CC40; }\n",
       ".datatable .row_index {  background: var(--jp-border-color3);  border-right: 1px solid var(--jp-border-color0);  color: var(--jp-ui-font-color3);  font-size: 9px;}\n",
       ".datatable .frame tbody td { text-align: left; }\n",
       ".datatable .frame tr.coltypes .row_index {  background: var(--jp-border-color0);}\n",
       ".datatable th:nth-child(2) { padding-left: 12px; }\n",
       ".datatable .hellipsis {  color: var(--jp-cell-editor-border-color);}\n",
       ".datatable .vellipsis {  background: var(--jp-layout-color0);  color: var(--jp-cell-editor-border-color);}\n",
       ".datatable .na {  color: var(--jp-cell-editor-border-color);  font-size: 80%;}\n",
       ".datatable .sp {  opacity: 0.25;}\n",
       ".datatable .footer { font-size: 9px; }\n",
       ".datatable .frame_dimensions {  background: var(--jp-border-color3);  border-top: 1px solid var(--jp-border-color0);  color: var(--jp-ui-font-color3);  display: inline-block;  opacity: 0.6;  padding: 1px 10px 1px 5px;}\n",
       "</style>\n"
      ],
      "text/plain": [
       "<IPython.core.display.HTML object>"
      ]
     },
     "metadata": {},
     "output_type": "display_data"
    }
   ],
   "source": [
    "from sklearn.linear_model import LogisticRegression as LR\n",
    "from sklearn.tree import DecisionTreeClassifier as dtc\n",
    "from sklearn.ensemble import RandomForestClassifier as rfc\n",
    "from lightgbm import LGBMClassifier as lgb\n",
    "from xgboost import XGBClassifier as xgb "
   ]
  },
  {
   "cell_type": "code",
   "execution_count": 14,
   "id": "120b2a16",
   "metadata": {
    "execution": {
     "iopub.execute_input": "2023-07-14T21:29:13.436262Z",
     "iopub.status.busy": "2023-07-14T21:29:13.435435Z",
     "iopub.status.idle": "2023-07-14T21:29:13.437180Z",
     "shell.execute_reply": "2023-07-14T21:29:13.437814Z",
     "shell.execute_reply.started": "2023-07-14T20:49:48.426203Z"
    },
    "papermill": {
     "duration": 0.053576,
     "end_time": "2023-07-14T21:29:13.438014",
     "exception": false,
     "start_time": "2023-07-14T21:29:13.384438",
     "status": "completed"
    },
    "tags": []
   },
   "outputs": [],
   "source": [
    "from sklearn.preprocessing import StandardScaler as SS\n",
    "from sklearn.model_selection import train_test_split"
   ]
  },
  {
   "cell_type": "code",
   "execution_count": 15,
   "id": "d9f2eb7f",
   "metadata": {
    "execution": {
     "iopub.execute_input": "2023-07-14T21:29:13.537491Z",
     "iopub.status.busy": "2023-07-14T21:29:13.536641Z",
     "iopub.status.idle": "2023-07-14T21:29:13.539194Z",
     "shell.execute_reply": "2023-07-14T21:29:13.539848Z",
     "shell.execute_reply.started": "2023-03-09T17:21:54.000109Z"
    },
    "papermill": {
     "duration": 0.055637,
     "end_time": "2023-07-14T21:29:13.540066",
     "exception": false,
     "start_time": "2023-07-14T21:29:13.484429",
     "status": "completed"
    },
    "tags": []
   },
   "outputs": [],
   "source": [
    "#for i in list(data.columns):\n",
    "#    print(data[i].value_counts())\n"
   ]
  },
  {
   "cell_type": "code",
   "execution_count": 16,
   "id": "37b5cfad",
   "metadata": {
    "execution": {
     "iopub.execute_input": "2023-07-14T21:29:13.635804Z",
     "iopub.status.busy": "2023-07-14T21:29:13.635031Z",
     "iopub.status.idle": "2023-07-14T21:29:13.642519Z",
     "shell.execute_reply": "2023-07-14T21:29:13.641889Z",
     "shell.execute_reply.started": "2023-07-14T20:50:04.317967Z"
    },
    "papermill": {
     "duration": 0.054972,
     "end_time": "2023-07-14T21:29:13.642689",
     "exception": false,
     "start_time": "2023-07-14T21:29:13.587717",
     "status": "completed"
    },
    "tags": []
   },
   "outputs": [
    {
     "data": {
      "text/plain": [
       "['age',\n",
       " 'sex',\n",
       " 'cp',\n",
       " 'trestbps',\n",
       " 'chol',\n",
       " 'fbs',\n",
       " 'restecg',\n",
       " 'thalach',\n",
       " 'exang',\n",
       " 'oldpeak',\n",
       " 'slope',\n",
       " 'ca',\n",
       " 'thal',\n",
       " 'target']"
      ]
     },
     "execution_count": 16,
     "metadata": {},
     "output_type": "execute_result"
    }
   ],
   "source": [
    "list(data.columns)"
   ]
  },
  {
   "cell_type": "code",
   "execution_count": 17,
   "id": "d36b6796",
   "metadata": {
    "execution": {
     "iopub.execute_input": "2023-07-14T21:29:13.740616Z",
     "iopub.status.busy": "2023-07-14T21:29:13.739774Z",
     "iopub.status.idle": "2023-07-14T21:29:13.749450Z",
     "shell.execute_reply": "2023-07-14T21:29:13.750150Z",
     "shell.execute_reply.started": "2023-07-14T20:50:11.473052Z"
    },
    "papermill": {
     "duration": 0.061483,
     "end_time": "2023-07-14T21:29:13.750358",
     "exception": false,
     "start_time": "2023-07-14T21:29:13.688875",
     "status": "completed"
    },
    "tags": []
   },
   "outputs": [],
   "source": [
    "df_dummy = pd.get_dummies(data, columns = ['cp',\n",
    " 'slope',\n",
    " 'thal',\n",
    " 'ca'], drop_first = True)"
   ]
  },
  {
   "cell_type": "code",
   "execution_count": 18,
   "id": "9dd9c688",
   "metadata": {
    "execution": {
     "iopub.execute_input": "2023-07-14T21:29:13.865239Z",
     "iopub.status.busy": "2023-07-14T21:29:13.864155Z",
     "iopub.status.idle": "2023-07-14T21:29:13.871103Z",
     "shell.execute_reply": "2023-07-14T21:29:13.870455Z",
     "shell.execute_reply.started": "2023-07-14T20:50:13.264367Z"
    },
    "papermill": {
     "duration": 0.074841,
     "end_time": "2023-07-14T21:29:13.871292",
     "exception": false,
     "start_time": "2023-07-14T21:29:13.796451",
     "status": "completed"
    },
    "tags": []
   },
   "outputs": [
    {
     "data": {
      "text/html": [
       "<div>\n",
       "<style scoped>\n",
       "    .dataframe tbody tr th:only-of-type {\n",
       "        vertical-align: middle;\n",
       "    }\n",
       "\n",
       "    .dataframe tbody tr th {\n",
       "        vertical-align: top;\n",
       "    }\n",
       "\n",
       "    .dataframe thead th {\n",
       "        text-align: right;\n",
       "    }\n",
       "</style>\n",
       "<table border=\"1\" class=\"dataframe\">\n",
       "  <thead>\n",
       "    <tr style=\"text-align: right;\">\n",
       "      <th></th>\n",
       "      <th>age</th>\n",
       "      <th>sex</th>\n",
       "      <th>trestbps</th>\n",
       "      <th>chol</th>\n",
       "      <th>fbs</th>\n",
       "      <th>restecg</th>\n",
       "      <th>thalach</th>\n",
       "      <th>exang</th>\n",
       "      <th>oldpeak</th>\n",
       "      <th>target</th>\n",
       "      <th>...</th>\n",
       "      <th>cp_3</th>\n",
       "      <th>slope_1</th>\n",
       "      <th>slope_2</th>\n",
       "      <th>thal_1</th>\n",
       "      <th>thal_2</th>\n",
       "      <th>thal_3</th>\n",
       "      <th>ca_1</th>\n",
       "      <th>ca_2</th>\n",
       "      <th>ca_3</th>\n",
       "      <th>ca_4</th>\n",
       "    </tr>\n",
       "  </thead>\n",
       "  <tbody>\n",
       "    <tr>\n",
       "      <th>0</th>\n",
       "      <td>63</td>\n",
       "      <td>1</td>\n",
       "      <td>145</td>\n",
       "      <td>233</td>\n",
       "      <td>1</td>\n",
       "      <td>0</td>\n",
       "      <td>150</td>\n",
       "      <td>0</td>\n",
       "      <td>2.3</td>\n",
       "      <td>1</td>\n",
       "      <td>...</td>\n",
       "      <td>1</td>\n",
       "      <td>0</td>\n",
       "      <td>0</td>\n",
       "      <td>1</td>\n",
       "      <td>0</td>\n",
       "      <td>0</td>\n",
       "      <td>0</td>\n",
       "      <td>0</td>\n",
       "      <td>0</td>\n",
       "      <td>0</td>\n",
       "    </tr>\n",
       "    <tr>\n",
       "      <th>1</th>\n",
       "      <td>37</td>\n",
       "      <td>1</td>\n",
       "      <td>130</td>\n",
       "      <td>250</td>\n",
       "      <td>0</td>\n",
       "      <td>1</td>\n",
       "      <td>187</td>\n",
       "      <td>0</td>\n",
       "      <td>3.5</td>\n",
       "      <td>1</td>\n",
       "      <td>...</td>\n",
       "      <td>0</td>\n",
       "      <td>0</td>\n",
       "      <td>0</td>\n",
       "      <td>0</td>\n",
       "      <td>1</td>\n",
       "      <td>0</td>\n",
       "      <td>0</td>\n",
       "      <td>0</td>\n",
       "      <td>0</td>\n",
       "      <td>0</td>\n",
       "    </tr>\n",
       "    <tr>\n",
       "      <th>2</th>\n",
       "      <td>41</td>\n",
       "      <td>0</td>\n",
       "      <td>130</td>\n",
       "      <td>204</td>\n",
       "      <td>0</td>\n",
       "      <td>0</td>\n",
       "      <td>172</td>\n",
       "      <td>0</td>\n",
       "      <td>1.4</td>\n",
       "      <td>1</td>\n",
       "      <td>...</td>\n",
       "      <td>0</td>\n",
       "      <td>0</td>\n",
       "      <td>1</td>\n",
       "      <td>0</td>\n",
       "      <td>1</td>\n",
       "      <td>0</td>\n",
       "      <td>0</td>\n",
       "      <td>0</td>\n",
       "      <td>0</td>\n",
       "      <td>0</td>\n",
       "    </tr>\n",
       "    <tr>\n",
       "      <th>3</th>\n",
       "      <td>56</td>\n",
       "      <td>1</td>\n",
       "      <td>120</td>\n",
       "      <td>236</td>\n",
       "      <td>0</td>\n",
       "      <td>1</td>\n",
       "      <td>178</td>\n",
       "      <td>0</td>\n",
       "      <td>0.8</td>\n",
       "      <td>1</td>\n",
       "      <td>...</td>\n",
       "      <td>0</td>\n",
       "      <td>0</td>\n",
       "      <td>1</td>\n",
       "      <td>0</td>\n",
       "      <td>1</td>\n",
       "      <td>0</td>\n",
       "      <td>0</td>\n",
       "      <td>0</td>\n",
       "      <td>0</td>\n",
       "      <td>0</td>\n",
       "    </tr>\n",
       "    <tr>\n",
       "      <th>4</th>\n",
       "      <td>57</td>\n",
       "      <td>0</td>\n",
       "      <td>120</td>\n",
       "      <td>354</td>\n",
       "      <td>0</td>\n",
       "      <td>1</td>\n",
       "      <td>163</td>\n",
       "      <td>1</td>\n",
       "      <td>0.6</td>\n",
       "      <td>1</td>\n",
       "      <td>...</td>\n",
       "      <td>0</td>\n",
       "      <td>0</td>\n",
       "      <td>1</td>\n",
       "      <td>0</td>\n",
       "      <td>1</td>\n",
       "      <td>0</td>\n",
       "      <td>0</td>\n",
       "      <td>0</td>\n",
       "      <td>0</td>\n",
       "      <td>0</td>\n",
       "    </tr>\n",
       "  </tbody>\n",
       "</table>\n",
       "<p>5 rows × 22 columns</p>\n",
       "</div>"
      ],
      "text/plain": [
       "   age  sex  trestbps  chol  fbs  restecg  thalach  exang  oldpeak  target  \\\n",
       "0   63    1       145   233    1        0      150      0      2.3       1   \n",
       "1   37    1       130   250    0        1      187      0      3.5       1   \n",
       "2   41    0       130   204    0        0      172      0      1.4       1   \n",
       "3   56    1       120   236    0        1      178      0      0.8       1   \n",
       "4   57    0       120   354    0        1      163      1      0.6       1   \n",
       "\n",
       "   ...  cp_3  slope_1  slope_2  thal_1  thal_2  thal_3  ca_1  ca_2  ca_3  ca_4  \n",
       "0  ...     1        0        0       1       0       0     0     0     0     0  \n",
       "1  ...     0        0        0       0       1       0     0     0     0     0  \n",
       "2  ...     0        0        1       0       1       0     0     0     0     0  \n",
       "3  ...     0        0        1       0       1       0     0     0     0     0  \n",
       "4  ...     0        0        1       0       1       0     0     0     0     0  \n",
       "\n",
       "[5 rows x 22 columns]"
      ]
     },
     "execution_count": 18,
     "metadata": {},
     "output_type": "execute_result"
    }
   ],
   "source": [
    "df_dummy.head()"
   ]
  },
  {
   "cell_type": "code",
   "execution_count": 19,
   "id": "2f1c1fc8",
   "metadata": {
    "execution": {
     "iopub.execute_input": "2023-07-14T21:29:13.967300Z",
     "iopub.status.busy": "2023-07-14T21:29:13.966484Z",
     "iopub.status.idle": "2023-07-14T21:29:13.971794Z",
     "shell.execute_reply": "2023-07-14T21:29:13.972364Z",
     "shell.execute_reply.started": "2023-07-14T20:50:19.679400Z"
    },
    "papermill": {
     "duration": 0.054814,
     "end_time": "2023-07-14T21:29:13.972578",
     "exception": false,
     "start_time": "2023-07-14T21:29:13.917764",
     "status": "completed"
    },
    "tags": []
   },
   "outputs": [],
   "source": [
    "X = df_dummy.drop('target',axis = 1)\n",
    "y = df_dummy.target"
   ]
  },
  {
   "cell_type": "code",
   "execution_count": 20,
   "id": "8fdaa11f",
   "metadata": {
    "execution": {
     "iopub.execute_input": "2023-07-14T21:29:14.069178Z",
     "iopub.status.busy": "2023-07-14T21:29:14.068436Z",
     "iopub.status.idle": "2023-07-14T21:29:14.075078Z",
     "shell.execute_reply": "2023-07-14T21:29:14.075703Z",
     "shell.execute_reply.started": "2023-07-14T20:50:20.792818Z"
    },
    "papermill": {
     "duration": 0.055631,
     "end_time": "2023-07-14T21:29:14.075947",
     "exception": false,
     "start_time": "2023-07-14T21:29:14.020316",
     "status": "completed"
    },
    "tags": []
   },
   "outputs": [],
   "source": [
    "scale = SS().fit(X)"
   ]
  },
  {
   "cell_type": "code",
   "execution_count": 21,
   "id": "0ac8d9ec",
   "metadata": {
    "execution": {
     "iopub.execute_input": "2023-07-14T21:29:14.171255Z",
     "iopub.status.busy": "2023-07-14T21:29:14.170456Z",
     "iopub.status.idle": "2023-07-14T21:29:14.184992Z",
     "shell.execute_reply": "2023-07-14T21:29:14.185641Z",
     "shell.execute_reply.started": "2023-07-14T20:50:24.386670Z"
    },
    "papermill": {
     "duration": 0.064151,
     "end_time": "2023-07-14T21:29:14.185859",
     "exception": false,
     "start_time": "2023-07-14T21:29:14.121708",
     "status": "completed"
    },
    "tags": []
   },
   "outputs": [],
   "source": [
    "X_train,X_test, y_train,y_test = train_test_split(X,y,test_size = 0.2, random_state = 42,stratify = y)"
   ]
  },
  {
   "cell_type": "code",
   "execution_count": 22,
   "id": "a313bed3",
   "metadata": {
    "execution": {
     "iopub.execute_input": "2023-07-14T21:29:14.279930Z",
     "iopub.status.busy": "2023-07-14T21:29:14.278818Z",
     "iopub.status.idle": "2023-07-14T21:29:14.289274Z",
     "shell.execute_reply": "2023-07-14T21:29:14.288621Z",
     "shell.execute_reply.started": "2023-07-14T20:51:11.412334Z"
    },
    "papermill": {
     "duration": 0.058105,
     "end_time": "2023-07-14T21:29:14.289470",
     "exception": false,
     "start_time": "2023-07-14T21:29:14.231365",
     "status": "completed"
    },
    "tags": []
   },
   "outputs": [],
   "source": [
    "X_train = scale.transform(X_train)\n",
    "X_test = scale.transform(X_test)"
   ]
  },
  {
   "cell_type": "code",
   "execution_count": 23,
   "id": "bd0ed558",
   "metadata": {
    "execution": {
     "iopub.execute_input": "2023-07-14T21:29:14.391839Z",
     "iopub.status.busy": "2023-07-14T21:29:14.390660Z",
     "iopub.status.idle": "2023-07-14T21:29:14.394768Z",
     "shell.execute_reply": "2023-07-14T21:29:14.395380Z",
     "shell.execute_reply.started": "2023-07-14T20:51:17.860271Z"
    },
    "papermill": {
     "duration": 0.059969,
     "end_time": "2023-07-14T21:29:14.395589",
     "exception": false,
     "start_time": "2023-07-14T21:29:14.335620",
     "status": "completed"
    },
    "tags": []
   },
   "outputs": [
    {
     "data": {
      "text/plain": [
       "array([ 1.2819107 ,  0.68265615,  1.61953226, -0.00967722, -0.41844626,\n",
       "        0.90165655, -1.29319009,  1.43195847, -0.8995441 ,  2.24499443,\n",
       "       -0.63098982, -0.28711892,  1.07570575, -0.93582926,  3.9721251 ,\n",
       "       -1.09744228, -0.79525621, -0.52369992, -0.37939346,  3.75499667,\n",
       "       -0.11585689])"
      ]
     },
     "execution_count": 23,
     "metadata": {},
     "output_type": "execute_result"
    }
   ],
   "source": [
    "X_train[1]"
   ]
  },
  {
   "cell_type": "code",
   "execution_count": 24,
   "id": "4eb19326",
   "metadata": {
    "execution": {
     "iopub.execute_input": "2023-07-14T21:29:14.496670Z",
     "iopub.status.busy": "2023-07-14T21:29:14.495485Z",
     "iopub.status.idle": "2023-07-14T21:29:15.315020Z",
     "shell.execute_reply": "2023-07-14T21:29:15.315660Z",
     "shell.execute_reply.started": "2023-07-14T20:51:32.913883Z"
    },
    "papermill": {
     "duration": 0.871134,
     "end_time": "2023-07-14T21:29:15.315888",
     "exception": false,
     "start_time": "2023-07-14T21:29:14.444754",
     "status": "completed"
    },
    "tags": []
   },
   "outputs": [
    {
     "name": "stderr",
     "output_type": "stream",
     "text": [
      "/opt/conda/lib/python3.7/site-packages/xgboost/sklearn.py:1224: UserWarning: The use of label encoder in XGBClassifier is deprecated and will be removed in a future release. To remove this warning, do the following: 1) Pass option use_label_encoder=False when constructing XGBClassifier object; and 2) Encode your labels (y) as integers starting with 0, i.e. 0, 1, 2, ..., [num_class - 1].\n",
      "  warnings.warn(label_encoder_deprecation_msg, UserWarning)\n"
     ]
    },
    {
     "name": "stdout",
     "output_type": "stream",
     "text": [
      "[21:29:14] WARNING: ../src/learner.cc:1115: Starting in XGBoost 1.3.0, the default evaluation metric used with the objective 'binary:logistic' was changed from 'error' to 'logloss'. Explicitly set eval_metric if you'd like to restore the old behavior.\n"
     ]
    }
   ],
   "source": [
    "LogR = LR().fit(X_train,y_train)\n",
    "RF = rfc().fit(X_train,y_train)\n",
    "DT = dtc().fit(X_train,y_train)\n",
    "LGB = lgb().fit(X_train,y_train)\n",
    "XGB = xgb().fit(X_train,y_train)"
   ]
  },
  {
   "cell_type": "code",
   "execution_count": 25,
   "id": "6854e69a",
   "metadata": {
    "execution": {
     "iopub.execute_input": "2023-07-14T21:29:15.415530Z",
     "iopub.status.busy": "2023-07-14T21:29:15.414729Z",
     "iopub.status.idle": "2023-07-14T21:29:15.426293Z",
     "shell.execute_reply": "2023-07-14T21:29:15.425673Z",
     "shell.execute_reply.started": "2023-07-14T20:51:35.733723Z"
    },
    "papermill": {
     "duration": 0.064128,
     "end_time": "2023-07-14T21:29:15.426468",
     "exception": false,
     "start_time": "2023-07-14T21:29:15.362340",
     "status": "completed"
    },
    "tags": []
   },
   "outputs": [
    {
     "name": "stdout",
     "output_type": "stream",
     "text": [
      "[[23  5]\n",
      " [ 4 29]]\n",
      "              precision    recall  f1-score   support\n",
      "\n",
      "           0       0.85      0.82      0.84        28\n",
      "           1       0.85      0.88      0.87        33\n",
      "\n",
      "    accuracy                           0.85        61\n",
      "   macro avg       0.85      0.85      0.85        61\n",
      "weighted avg       0.85      0.85      0.85        61\n",
      "\n"
     ]
    }
   ],
   "source": [
    "from sklearn.metrics import confusion_matrix, classification_report \n",
    "#Logistic Regression\n",
    "y_lr = LogR.predict(X_test)\n",
    "print(confusion_matrix(y_test, y_lr))\n",
    "print(classification_report(y_test,y_lr))"
   ]
  },
  {
   "cell_type": "code",
   "execution_count": 26,
   "id": "75766ceb",
   "metadata": {
    "execution": {
     "iopub.execute_input": "2023-07-14T21:29:15.553258Z",
     "iopub.status.busy": "2023-07-14T21:29:15.551422Z",
     "iopub.status.idle": "2023-07-14T21:29:15.844806Z",
     "shell.execute_reply": "2023-07-14T21:29:15.844008Z",
     "shell.execute_reply.started": "2023-07-14T20:51:39.449784Z"
    },
    "papermill": {
     "duration": 0.371671,
     "end_time": "2023-07-14T21:29:15.844972",
     "exception": false,
     "start_time": "2023-07-14T21:29:15.473301",
     "status": "completed"
    },
    "tags": []
   },
   "outputs": [
    {
     "name": "stdout",
     "output_type": "stream",
     "text": [
      "[[18 10]\n",
      " [ 5 28]]\n",
      "              precision    recall  f1-score   support\n",
      "\n",
      "           0       0.78      0.64      0.71        28\n",
      "           1       0.74      0.85      0.79        33\n",
      "\n",
      "    accuracy                           0.75        61\n",
      "   macro avg       0.76      0.75      0.75        61\n",
      "weighted avg       0.76      0.75      0.75        61\n",
      "\n"
     ]
    },
    {
     "data": {
      "image/png": "[encoded data removed]",
      "text/plain": [
       "<Figure size 432x288 with 2 Axes>"
      ]
     },
     "metadata": {
      "needs_background": "light"
     },
     "output_type": "display_data"
    }
   ],
   "source": [
    "#DecissionTreeClassifier\n",
    "y_dt = DT.predict(X_test)\n",
    "print(confusion_matrix(y_test, y_dt))\n",
    "\n",
    "ax = sns.heatmap(confusion_matrix(y_test, y_dt), annot = True, cmap = 'Blues')\n",
    "ax.set_title('Seaborn Confusion Matrix with labels\\n\\n');\n",
    "ax.set_xlabel('\\nPredicted Values')\n",
    "ax.set_ylabel('Actual Values ');\n",
    "\n",
    "ax.xaxis.set_ticklabels(['False','True'])\n",
    "ax.yaxis.set_ticklabels(['False','True'])\n",
    "\n",
    "print(classification_report(y_test,y_dt))"
   ]
  },
  {
   "cell_type": "code",
   "execution_count": 27,
   "id": "489d106b",
   "metadata": {
    "execution": {
     "iopub.execute_input": "2023-07-14T21:29:15.953148Z",
     "iopub.status.busy": "2023-07-14T21:29:15.952315Z",
     "iopub.status.idle": "2023-07-14T21:29:16.296255Z",
     "shell.execute_reply": "2023-07-14T21:29:16.296866Z",
     "shell.execute_reply.started": "2023-07-14T20:51:48.736178Z"
    },
    "papermill": {
     "duration": 0.403693,
     "end_time": "2023-07-14T21:29:16.297079",
     "exception": false,
     "start_time": "2023-07-14T21:29:15.893386",
     "status": "completed"
    },
    "tags": []
   },
   "outputs": [
    {
     "name": "stdout",
     "output_type": "stream",
     "text": [
      "[[20  8]\n",
      " [ 6 27]]\n",
      "              precision    recall  f1-score   support\n",
      "\n",
      "           0       0.77      0.71      0.74        28\n",
      "           1       0.77      0.82      0.79        33\n",
      "\n",
      "    accuracy                           0.77        61\n",
      "   macro avg       0.77      0.77      0.77        61\n",
      "weighted avg       0.77      0.77      0.77        61\n",
      "\n"
     ]
    },
    {
     "data": {
      "image/png": "[encoded data removed]",
      "text/plain": [
       "<Figure size 432x288 with 2 Axes>"
      ]
     },
     "metadata": {
      "needs_background": "light"
     },
     "output_type": "display_data"
    }
   ],
   "source": [
    "#RandomForestClassifier\n",
    "y_rf = RF.predict(X_test)\n",
    "print(confusion_matrix(y_test, y_rf))\n",
    "\n",
    "ax = sns.heatmap(confusion_matrix(y_test, y_rf), annot = True, cmap = 'Blues')\n",
    "ax.set_title('Seaborn Confusion Matrix with labels\\n\\n');\n",
    "ax.set_xlabel('\\nPredicted Values')\n",
    "ax.set_ylabel('Actual Values ');\n",
    "\n",
    "ax.xaxis.set_ticklabels(['False','True'])\n",
    "ax.yaxis.set_ticklabels(['False','True'])\n",
    "\n",
    "print(classification_report(y_test,y_rf))"
   ]
  },
  {
   "cell_type": "code",
   "execution_count": 28,
   "id": "a48998b5",
   "metadata": {
    "execution": {
     "iopub.execute_input": "2023-07-14T21:29:16.402180Z",
     "iopub.status.busy": "2023-07-14T21:29:16.401366Z",
     "iopub.status.idle": "2023-07-14T21:29:16.750046Z",
     "shell.execute_reply": "2023-07-14T21:29:16.750656Z",
     "shell.execute_reply.started": "2023-07-14T20:51:50.799699Z"
    },
    "papermill": {
     "duration": 0.403364,
     "end_time": "2023-07-14T21:29:16.750858",
     "exception": false,
     "start_time": "2023-07-14T21:29:16.347494",
     "status": "completed"
    },
    "tags": []
   },
   "outputs": [
    {
     "name": "stdout",
     "output_type": "stream",
     "text": [
      "[[18 10]\n",
      " [ 8 25]]\n",
      "              precision    recall  f1-score   support\n",
      "\n",
      "           0       0.69      0.64      0.67        28\n",
      "           1       0.71      0.76      0.74        33\n",
      "\n",
      "    accuracy                           0.70        61\n",
      "   macro avg       0.70      0.70      0.70        61\n",
      "weighted avg       0.70      0.70      0.70        61\n",
      "\n"
     ]
    },
    {
     "data": {
      "image/png": "[encoded data removed]",
      "text/plain": [
       "<Figure size 432x288 with 2 Axes>"
      ]
     },
     "metadata": {
      "needs_background": "light"
     },
     "output_type": "display_data"
    }
   ],
   "source": [
    "#LightGBM\n",
    "y_lgb = LGB.predict(X_test)\n",
    "print(confusion_matrix(y_test, y_lgb))\n",
    "\n",
    "ax = sns.heatmap(confusion_matrix(y_test, y_lgb), annot = True, cmap = 'Blues')\n",
    "ax.set_title('Seaborn Confusion Matrix with labels\\n\\n');\n",
    "ax.set_xlabel('\\nPredicted Values')\n",
    "ax.set_ylabel('Actual Values ');\n",
    "\n",
    "ax.xaxis.set_ticklabels(['False','True'])\n",
    "ax.yaxis.set_ticklabels(['False','True'])\n",
    "\n",
    "print(classification_report(y_test,y_lgb))"
   ]
  },
  {
   "cell_type": "code",
   "execution_count": 29,
   "id": "568ff0d7",
   "metadata": {
    "execution": {
     "iopub.execute_input": "2023-07-14T21:29:16.865169Z",
     "iopub.status.busy": "2023-07-14T21:29:16.863863Z",
     "iopub.status.idle": "2023-07-14T21:29:17.344613Z",
     "shell.execute_reply": "2023-07-14T21:29:17.343827Z",
     "shell.execute_reply.started": "2023-07-14T20:51:55.837351Z"
    },
    "papermill": {
     "duration": 0.540713,
     "end_time": "2023-07-14T21:29:17.344792",
     "exception": false,
     "start_time": "2023-07-14T21:29:16.804079",
     "status": "completed"
    },
    "tags": []
   },
   "outputs": [
    {
     "name": "stdout",
     "output_type": "stream",
     "text": [
      "[[16 12]\n",
      " [ 8 25]]\n",
      "              precision    recall  f1-score   support\n",
      "\n",
      "           0       0.67      0.57      0.62        28\n",
      "           1       0.68      0.76      0.71        33\n",
      "\n",
      "    accuracy                           0.67        61\n",
      "   macro avg       0.67      0.66      0.66        61\n",
      "weighted avg       0.67      0.67      0.67        61\n",
      "\n"
     ]
    },
    {
     "data": {
      "image/png": "[encoded data removed]",
      "text/plain": [
       "<Figure size 432x288 with 2 Axes>"
      ]
     },
     "metadata": {
      "needs_background": "light"
     },
     "output_type": "display_data"
    }
   ],
   "source": [
    "#XGBoost\n",
    "y_xgb = XGB.predict(X_test)\n",
    "print(confusion_matrix(y_test, y_xgb))\n",
    "\n",
    "ax = sns.heatmap(confusion_matrix(y_test, y_xgb), annot = True, cmap = 'Blues')\n",
    "ax.set_title('Seaborn Confusion Matrix with labels\\n\\n');\n",
    "ax.set_xlabel('\\nPredicted Values')\n",
    "ax.set_ylabel('Actual Values ');\n",
    "\n",
    "ax.xaxis.set_ticklabels(['False','True'])\n",
    "ax.yaxis.set_ticklabels(['False','True'])\n",
    "\n",
    "print(classification_report(y_test,y_xgb))"
   ]
  },
  {
   "cell_type": "code",
   "execution_count": 30,
   "id": "435ad8b4",
   "metadata": {
    "execution": {
     "iopub.execute_input": "2023-07-14T21:29:17.455750Z",
     "iopub.status.busy": "2023-07-14T21:29:17.454858Z",
     "iopub.status.idle": "2023-07-14T21:30:18.376564Z",
     "shell.execute_reply": "2023-07-14T21:30:18.375765Z",
     "shell.execute_reply.started": "2023-07-14T21:11:43.947548Z"
    },
    "papermill": {
     "duration": 60.978069,
     "end_time": "2023-07-14T21:30:18.376732",
     "exception": false,
     "start_time": "2023-07-14T21:29:17.398663",
     "status": "completed"
    },
    "tags": []
   },
   "outputs": [
    {
     "name": "stdout",
     "output_type": "stream",
     "text": [
      "Fitting 4 folds for each of 60 candidates, totalling 240 fits\n"
     ]
    },
    {
     "name": "stderr",
     "output_type": "stream",
     "text": [
      "[Parallel(n_jobs=-1)]: Using backend LokyBackend with 4 concurrent workers.\n",
      "[Parallel(n_jobs=-1)]: Done  17 tasks      | elapsed:    7.0s\n",
      "[Parallel(n_jobs=-1)]: Done  90 tasks      | elapsed:   24.2s\n"
     ]
    },
    {
     "name": "stdout",
     "output_type": "stream",
     "text": [
      "[CV] max_features=auto, min_samples_split=2, n_estimators=100 ........\n",
      "[CV]  max_features=auto, min_samples_split=2, n_estimators=100, score=0.770, total=   0.3s\n",
      "[CV] max_features=auto, min_samples_split=2, n_estimators=200 ........\n",
      "[CV]  max_features=auto, min_samples_split=2, n_estimators=200, score=0.754, total=   0.7s\n",
      "[CV] max_features=auto, min_samples_split=2, n_estimators=300 ........\n",
      "[CV]  max_features=auto, min_samples_split=2, n_estimators=300, score=0.721, total=   1.0s\n",
      "[CV] max_features=auto, min_samples_split=2, n_estimators=500 ........\n",
      "[CV]  max_features=auto, min_samples_split=2, n_estimators=500, score=0.738, total=   1.8s\n",
      "[CV] max_features=auto, min_samples_split=3, n_estimators=100 ........\n",
      "[CV]  max_features=auto, min_samples_split=3, n_estimators=100, score=0.738, total=   0.4s\n",
      "[CV] max_features=auto, min_samples_split=3, n_estimators=200 ........\n",
      "[CV]  max_features=auto, min_samples_split=3, n_estimators=200, score=0.721, total=   0.7s\n",
      "[CV] max_features=auto, min_samples_split=3, n_estimators=300 ........\n",
      "[CV]  max_features=auto, min_samples_split=3, n_estimators=300, score=0.754, total=   1.0s\n",
      "[CV] max_features=auto, min_samples_split=3, n_estimators=500 ........\n",
      "[CV]  max_features=auto, min_samples_split=3, n_estimators=500, score=0.754, total=   1.7s\n",
      "[CV] max_features=auto, min_samples_split=4, n_estimators=100 ........\n",
      "[CV]  max_features=auto, min_samples_split=4, n_estimators=100, score=0.738, total=   0.3s\n",
      "[CV] max_features=auto, min_samples_split=4, n_estimators=200 ........\n",
      "[CV]  max_features=auto, min_samples_split=4, n_estimators=200, score=0.754, total=   0.7s\n",
      "[CV] max_features=auto, min_samples_split=4, n_estimators=300 ........\n",
      "[CV]  max_features=auto, min_samples_split=4, n_estimators=300, score=0.754, total=   1.0s\n",
      "[CV] max_features=auto, min_samples_split=4, n_estimators=500 ........\n",
      "[CV]  max_features=auto, min_samples_split=4, n_estimators=500, score=0.754, total=   1.9s\n",
      "[CV] max_features=auto, min_samples_split=5, n_estimators=100 ........\n",
      "[CV]  max_features=auto, min_samples_split=5, n_estimators=100, score=0.787, total=   0.3s\n",
      "[CV] max_features=auto, min_samples_split=5, n_estimators=100 ........\n",
      "[CV]  max_features=auto, min_samples_split=5, n_estimators=100, score=0.800, total=   0.3s\n",
      "[CV] max_features=auto, min_samples_split=5, n_estimators=200 ........\n",
      "[CV]  max_features=auto, min_samples_split=5, n_estimators=200, score=0.767, total=   0.7s\n",
      "[CV] max_features=auto, min_samples_split=5, n_estimators=300 ........\n",
      "[CV]  max_features=auto, min_samples_split=5, n_estimators=300, score=0.767, total=   1.0s\n",
      "[CV] max_features=auto, min_samples_split=5, n_estimators=500 ........\n",
      "[CV]  max_features=auto, min_samples_split=5, n_estimators=500, score=0.754, total=   1.7s\n",
      "[CV] max_features=auto, min_samples_split=6, n_estimators=100 ........\n",
      "[CV]  max_features=auto, min_samples_split=6, n_estimators=100, score=0.721, total=   0.3s\n",
      "[CV] max_features=auto, min_samples_split=6, n_estimators=200 ........\n",
      "[CV]  max_features=auto, min_samples_split=6, n_estimators=200, score=0.721, total=   0.7s\n",
      "[CV] max_features=auto, min_samples_split=6, n_estimators=300 ........\n",
      "[CV]  max_features=auto, min_samples_split=6, n_estimators=300, score=0.738, total=   1.0s\n",
      "[CV] max_features=auto, min_samples_split=6, n_estimators=500 ........\n",
      "[CV]  max_features=auto, min_samples_split=6, n_estimators=500, score=0.754, total=   1.7s\n",
      "[CV] max_features=sqrt, min_samples_split=2, n_estimators=100 ........\n",
      "[CV]  max_features=sqrt, min_samples_split=2, n_estimators=100, score=0.738, total=   0.3s\n",
      "[CV] max_features=sqrt, min_samples_split=2, n_estimators=200 ........\n",
      "[CV]  max_features=sqrt, min_samples_split=2, n_estimators=200, score=0.721, total=   0.7s\n",
      "[CV] max_features=sqrt, min_samples_split=2, n_estimators=300 ........\n",
      "[CV]  max_features=sqrt, min_samples_split=2, n_estimators=300, score=0.754, total=   1.0s\n",
      "[CV] max_features=sqrt, min_samples_split=2, n_estimators=500 ........\n",
      "[CV]  max_features=sqrt, min_samples_split=2, n_estimators=500, score=0.721, total=   1.8s\n",
      "[CV] max_features=sqrt, min_samples_split=3, n_estimators=100 ........\n",
      "[CV]  max_features=sqrt, min_samples_split=3, n_estimators=100, score=0.738, total=   0.3s\n",
      "[CV] max_features=sqrt, min_samples_split=3, n_estimators=200 ........\n",
      "[CV]  max_features=sqrt, min_samples_split=3, n_estimators=200, score=0.738, total=   0.7s\n",
      "[CV] max_features=sqrt, min_samples_split=3, n_estimators=300 ........\n",
      "[CV]  max_features=sqrt, min_samples_split=3, n_estimators=300, score=0.738, total=   1.0s\n",
      "[CV] max_features=sqrt, min_samples_split=3, n_estimators=500 ........\n",
      "[CV]  max_features=sqrt, min_samples_split=3, n_estimators=500, score=0.754, total=   1.7s\n",
      "[CV] max_features=sqrt, min_samples_split=4, n_estimators=100 ........\n",
      "[CV]  max_features=sqrt, min_samples_split=4, n_estimators=100, score=0.738, total=   0.3s\n",
      "[CV] max_features=sqrt, min_samples_split=4, n_estimators=200 ........\n",
      "[CV]  max_features=sqrt, min_samples_split=4, n_estimators=200, score=0.754, total=   0.7s\n",
      "[CV] max_features=sqrt, min_samples_split=4, n_estimators=300 ........\n",
      "[CV]  max_features=sqrt, min_samples_split=4, n_estimators=300, score=0.738, total=   1.0s\n",
      "[CV] max_features=sqrt, min_samples_split=4, n_estimators=500 ........\n",
      "[CV]  max_features=sqrt, min_samples_split=4, n_estimators=500, score=0.770, total=   1.7s\n",
      "[CV] max_features=sqrt, min_samples_split=5, n_estimators=100 ........\n",
      "[CV]  max_features=sqrt, min_samples_split=5, n_estimators=100, score=0.770, total=   0.3s\n",
      "[CV] max_features=sqrt, min_samples_split=5, n_estimators=200 ........\n",
      "[CV]  max_features=sqrt, min_samples_split=5, n_estimators=200, score=0.754, total=   0.7s\n",
      "[CV] max_features=sqrt, min_samples_split=5, n_estimators=300 ........\n",
      "[CV]  max_features=sqrt, min_samples_split=5, n_estimators=300, score=0.754, total=   1.0s\n",
      "[CV] max_features=sqrt, min_samples_split=5, n_estimators=500 ........\n",
      "[CV]  max_features=sqrt, min_samples_split=5, n_estimators=500, score=0.754, total=   1.7s\n",
      "[CV] max_features=sqrt, min_samples_split=6, n_estimators=100 ........\n",
      "[CV]  max_features=sqrt, min_samples_split=6, n_estimators=100, score=0.705, total=   0.3s\n",
      "[CV] max_features=sqrt, min_samples_split=6, n_estimators=200 ........\n",
      "[CV]  max_features=sqrt, min_samples_split=6, n_estimators=200, score=0.770, total=   0.7s\n",
      "[CV] max_features=sqrt, min_samples_split=6, n_estimators=300 ........\n",
      "[CV]  max_features=sqrt, min_samples_split=6, n_estimators=300, score=0.754, total=   1.0s\n",
      "[CV] max_features=sqrt, min_samples_split=6, n_estimators=500 ........\n",
      "[CV]  max_features=sqrt, min_samples_split=6, n_estimators=500, score=0.754, total=   1.7s\n",
      "[CV] max_features=log2, min_samples_split=2, n_estimators=100 ........\n",
      "[CV]  max_features=log2, min_samples_split=2, n_estimators=100, score=0.754, total=   0.3s\n",
      "[CV] max_features=log2, min_samples_split=2, n_estimators=200 ........\n",
      "[CV]  max_features=log2, min_samples_split=2, n_estimators=200, score=0.738, total=   0.7s\n",
      "[CV] max_features=log2, min_samples_split=2, n_estimators=300 ........\n",
      "[CV]  max_features=log2, min_samples_split=2, n_estimators=300, score=0.738, total=   1.0s\n",
      "[CV] max_features=log2, min_samples_split=2, n_estimators=500 ........\n",
      "[CV]  max_features=log2, min_samples_split=2, n_estimators=500, score=0.721, total=   1.7s\n",
      "[CV] max_features=log2, min_samples_split=3, n_estimators=100 ........\n",
      "[CV]  max_features=log2, min_samples_split=3, n_estimators=100, score=0.721, total=   0.4s\n",
      "[CV] max_features=log2, min_samples_split=3, n_estimators=200 ........\n",
      "[CV]  max_features=log2, min_samples_split=3, n_estimators=200, score=0.738, total=   0.9s\n",
      "[CV] max_features=log2, min_samples_split=3, n_estimators=300 ........\n",
      "[CV]  max_features=log2, min_samples_split=3, n_estimators=300, score=0.738, total=   1.3s\n",
      "[CV] max_features=log2, min_samples_split=3, n_estimators=500 ........\n",
      "[CV]  max_features=log2, min_samples_split=3, n_estimators=500, score=0.817, total=   1.7s\n",
      "[CV] max_features=log2, min_samples_split=4, n_estimators=100 ........\n",
      "[CV]  max_features=log2, min_samples_split=4, n_estimators=100, score=0.817, total=   0.3s\n",
      "[CV] max_features=log2, min_samples_split=4, n_estimators=200 ........\n",
      "[CV]  max_features=log2, min_samples_split=4, n_estimators=200, score=0.783, total=   0.7s[CV] max_features=auto, min_samples_split=2, n_estimators=100 ........\n",
      "[CV]  max_features=auto, min_samples_split=2, n_estimators=100, score=0.833, total=   0.3s\n",
      "[CV] max_features=auto, min_samples_split=2, n_estimators=200 ........\n",
      "[CV]  max_features=auto, min_samples_split=2, n_estimators=200, score=0.833, total=   0.7s\n",
      "[CV] max_features=auto, min_samples_split=2, n_estimators=300 ........\n",
      "[CV]  max_features=auto, min_samples_split=2, n_estimators=300, score=0.883, total=   1.0s\n",
      "[CV] max_features=auto, min_samples_split=2, n_estimators=500 ........\n",
      "[CV]  max_features=auto, min_samples_split=2, n_estimators=500, score=0.850, total=   1.9s\n",
      "[CV] max_features=auto, min_samples_split=3, n_estimators=100 ........\n",
      "[CV]  max_features=auto, min_samples_split=3, n_estimators=100, score=0.833, total=   0.4s\n",
      "[CV] max_features=auto, min_samples_split=3, n_estimators=200 ........\n",
      "[CV]  max_features=auto, min_samples_split=3, n_estimators=200, score=0.817, total=   0.8s\n",
      "[CV] max_features=auto, min_samples_split=3, n_estimators=300 ........\n",
      "[CV]  max_features=auto, min_samples_split=3, n_estimators=300, score=0.833, total=   1.0s\n",
      "[CV] max_features=auto, min_samples_split=3, n_estimators=500 ........\n",
      "[CV]  max_features=auto, min_samples_split=3, n_estimators=500, score=0.850, total=   1.7s\n",
      "[CV] max_features=auto, min_samples_split=4, n_estimators=100 ........\n",
      "[CV]  max_features=auto, min_samples_split=4, n_estimators=100, score=0.867, total=   0.3s\n",
      "[CV] max_features=auto, min_samples_split=4, n_estimators=200 ........\n",
      "[CV]  max_features=auto, min_samples_split=4, n_estimators=200, score=0.867, total=   0.7s\n",
      "[CV] max_features=auto, min_samples_split=4, n_estimators=300 ........\n",
      "[CV]  max_features=auto, min_samples_split=4, n_estimators=300, score=0.850, total=   1.0s\n",
      "[CV] max_features=auto, min_samples_split=4, n_estimators=500 ........\n",
      "[CV]  max_features=auto, min_samples_split=4, n_estimators=500, score=0.850, total=   2.0s\n",
      "[CV] max_features=auto, min_samples_split=5, n_estimators=100 ........\n",
      "[CV]  max_features=auto, min_samples_split=5, n_estimators=100, score=0.800, total=   0.4s\n",
      "[CV] max_features=auto, min_samples_split=5, n_estimators=200 ........\n",
      "[CV]  max_features=auto, min_samples_split=5, n_estimators=200, score=0.767, total=   0.7s\n",
      "[CV] max_features=auto, min_samples_split=5, n_estimators=300 ........\n",
      "[CV]  max_features=auto, min_samples_split=5, n_estimators=300, score=0.783, total=   1.0s\n",
      "[CV] max_features=auto, min_samples_split=5, n_estimators=500 ........\n",
      "[CV]  max_features=auto, min_samples_split=5, n_estimators=500, score=0.783, total=   1.7s\n",
      "[CV] max_features=auto, min_samples_split=6, n_estimators=100 ........\n",
      "[CV]  max_features=auto, min_samples_split=6, n_estimators=100, score=0.783, total=   0.3s\n",
      "[CV] max_features=auto, min_samples_split=6, n_estimators=200 ........\n",
      "[CV]  max_features=auto, min_samples_split=6, n_estimators=200, score=0.817, total=   0.7s\n",
      "[CV] max_features=auto, min_samples_split=6, n_estimators=300 ........\n",
      "[CV]  max_features=auto, min_samples_split=6, n_estimators=300, score=0.833, total=   1.0s\n",
      "[CV] max_features=auto, min_samples_split=6, n_estimators=500 ........\n",
      "[CV]  max_features=auto, min_samples_split=6, n_estimators=500, score=0.800, total=   1.7s\n",
      "[CV] max_features=sqrt, min_samples_split=2, n_estimators=100 ........\n",
      "[CV]  max_features=sqrt, min_samples_split=2, n_estimators=100, score=0.783, total=   0.3s\n",
      "[CV] max_features=sqrt, min_samples_split=2, n_estimators=200 ........\n",
      "[CV]  max_features=sqrt, min_samples_split=2, n_estimators=200, score=0.817, total=   0.7s\n",
      "[CV] max_features=sqrt, min_samples_split=2, n_estimators=300 ........\n",
      "[CV]  max_features=sqrt, min_samples_split=2, n_estimators=300, score=0.833, total=   1.0s\n",
      "[CV] max_features=sqrt, min_samples_split=2, n_estimators=500 ........\n",
      "[CV]  max_features=sqrt, min_samples_split=2, n_estimators=500, score=0.783, total=   1.8s\n",
      "[CV] max_features=sqrt, min_samples_split=3, n_estimators=100 ........\n",
      "[CV]  max_features=sqrt, min_samples_split=3, n_estimators=100, score=0.800, total=   0.3s\n",
      "[CV] max_features=sqrt, min_samples_split=3, n_estimators=200 ........\n",
      "[CV]  max_features=sqrt, min_samples_split=3, n_estimators=200, score=0.800, total=   0.7s\n",
      "[CV] max_features=sqrt, min_samples_split=3, n_estimators=300 ........\n",
      "[CV]  max_features=sqrt, min_samples_split=3, n_estimators=300, score=0.817, total=   1.0s\n",
      "[CV] max_features=sqrt, min_samples_split=3, n_estimators=500 ........\n",
      "[CV]  max_features=sqrt, min_samples_split=3, n_estimators=500, score=0.800, total=   1.7s\n",
      "[CV] max_features=sqrt, min_samples_split=4, n_estimators=100 ........\n",
      "[CV]  max_features=sqrt, min_samples_split=4, n_estimators=100, score=0.833, total=   0.3s\n",
      "[CV] max_features=sqrt, min_samples_split=4, n_estimators=200 ........\n",
      "[CV]  max_features=sqrt, min_samples_split=4, n_estimators=200, score=0.783, total=   0.7s\n",
      "[CV] max_features=sqrt, min_samples_split=4, n_estimators=300 ........\n",
      "[CV]  max_features=sqrt, min_samples_split=4, n_estimators=300, score=0.800, total=   1.0s\n",
      "[CV] max_features=sqrt, min_samples_split=4, n_estimators=500 ........\n",
      "[CV]  max_features=sqrt, min_samples_split=4, n_estimators=500, score=0.817, total=   1.7s\n",
      "[CV] max_features=sqrt, min_samples_split=5, n_estimators=100 ........\n",
      "[CV]  max_features=sqrt, min_samples_split=5, n_estimators=100, score=0.767, total=   0.3s\n",
      "[CV] max_features=sqrt, min_samples_split=5, n_estimators=200 ........\n",
      "[CV]  max_features=sqrt, min_samples_split=5, n_estimators=200, score=0.817, total=   0.7s\n",
      "[CV] max_features=sqrt, min_samples_split=5, n_estimators=300 ........\n",
      "[CV]  max_features=sqrt, min_samples_split=5, n_estimators=300, score=0.800, total=   1.1s\n",
      "[CV] max_features=sqrt, min_samples_split=5, n_estimators=500 ........\n",
      "[CV]  max_features=sqrt, min_samples_split=5, n_estimators=500, score=0.800, total=   1.7s\n",
      "[CV] max_features=sqrt, min_samples_split=6, n_estimators=100 ........\n",
      "[CV]  max_features=sqrt, min_samples_split=6, n_estimators=100, score=0.817, total=   0.3s\n",
      "[CV] max_features=sqrt, min_samples_split=6, n_estimators=200 ........\n",
      "[CV]  max_features=sqrt, min_samples_split=6, n_estimators=200, score=0.783, total=   0.7s\n",
      "[CV] max_features=sqrt, min_samples_split=6, n_estimators=300 ........\n",
      "[CV]  max_features=sqrt, min_samples_split=6, n_estimators=300, score=0.817, total=   1.0s\n",
      "[CV] max_features=sqrt, min_samples_split=6, n_estimators=500 ........\n",
      "[CV]  max_features=sqrt, min_samples_split=6, n_estimators=500, score=0.800, total=   1.7s\n",
      "[CV] max_features=log2, min_samples_split=2, n_estimators=100 ........\n",
      "[CV]  max_features=log2, min_samples_split=2, n_estimators=100, score=0.800, total=   0.3s\n",
      "[CV] max_features=log2, min_samples_split=2, n_estimators=200 ........\n",
      "[CV]  max_features=log2, min_samples_split=2, n_estimators=200, score=0.800, total=   0.7s\n",
      "[CV] max_features=log2, min_samples_split=2, n_estimators=300 ........\n",
      "[CV]  max_features=log2, min_samples_split=2, n_estimators=300, score=0.783, total=   1.0s\n",
      "[CV] max_features=log2, min_samples_split=2, n_estimators=500 ........\n",
      "[CV]  max_features=log2, min_samples_split=2, n_estimators=500, score=0.800, total=   1.7s\n",
      "[CV] max_features=log2, min_samples_split=3, n_estimators=100 ........\n",
      "[CV]  max_features=log2, min_samples_split=3, n_estimators=100, score=0.800, total=   0.4s\n",
      "[CV] max_features=log2, min_samples_split=3, n_estimators=200 ........\n",
      "[CV]  max_features=log2, min_samples_split=3, n_estimators=200, score=0.783, total=   1.0s\n",
      "[CV] max_features=log2, min_samples_split=3, n_estimators=300 ........\n",
      "[CV]  max_features=log2, min_samples_split=3, n_estimators=300, score=0.817, total=   1.0s\n",
      "[CV] max_features=log2, min_samples_split=3, n_estimators=500 ........\n",
      "[CV]  max_features=log2, min_samples_split=3, n_estimators=500, score=0.770, total=   1.7s\n",
      "[CV] max_features=log2, min_samples_split=4, n_estimators=100 ........\n",
      "[CV]  max_features=log2, min_samples_split=4, n_estimators=100, score=0.787, total=   0.3s\n",
      "[CV] max_features=log2, min_samples_split=4, n_estimators=200 ........\n",
      "[CV]  max_features=log2, min_samples_split=4, n_estimators=200, score=0.770, total=   0.7s\n",
      "[CV] max_features=log2, min_samples_split=4, n_estimators=300 ........\n",
      "[CV]  max_features=log2, min_samples_split=4, n_estimators=300, score=0.738, total=   1.0s[CV] max_features=auto, min_samples_split=2, n_estimators=100 ........\n",
      "[CV]  max_features=auto, min_samples_split=2, n_estimators=100, score=0.817, total=   0.3s\n",
      "[CV] max_features=auto, min_samples_split=2, n_estimators=200 ........\n",
      "[CV]  max_features=auto, min_samples_split=2, n_estimators=200, score=0.767, total=   0.7s\n",
      "[CV] max_features=auto, min_samples_split=2, n_estimators=300 ........\n",
      "[CV]  max_features=auto, min_samples_split=2, n_estimators=300, score=0.783, total=   1.0s\n",
      "[CV] max_features=auto, min_samples_split=2, n_estimators=500 ........\n",
      "[CV]  max_features=auto, min_samples_split=2, n_estimators=500, score=0.800, total=   1.8s\n",
      "[CV] max_features=auto, min_samples_split=3, n_estimators=100 ........\n",
      "[CV]  max_features=auto, min_samples_split=3, n_estimators=100, score=0.817, total=   0.4s\n",
      "[CV] max_features=auto, min_samples_split=3, n_estimators=200 ........\n",
      "[CV]  max_features=auto, min_samples_split=3, n_estimators=200, score=0.783, total=   0.7s\n",
      "[CV] max_features=auto, min_samples_split=3, n_estimators=300 ........\n",
      "[CV]  max_features=auto, min_samples_split=3, n_estimators=300, score=0.817, total=   1.0s\n",
      "[CV] max_features=auto, min_samples_split=3, n_estimators=500 ........\n",
      "[CV]  max_features=auto, min_samples_split=3, n_estimators=500, score=0.817, total=   1.7s\n",
      "[CV] max_features=auto, min_samples_split=4, n_estimators=100 ........\n",
      "[CV]  max_features=auto, min_samples_split=4, n_estimators=100, score=0.817, total=   0.3s\n",
      "[CV] max_features=auto, min_samples_split=4, n_estimators=200 ........\n",
      "[CV]  max_features=auto, min_samples_split=4, n_estimators=200, score=0.783, total=   0.7s\n",
      "[CV] max_features=auto, min_samples_split=4, n_estimators=300 ........\n",
      "[CV]  max_features=auto, min_samples_split=4, n_estimators=300, score=0.817, total=   1.0s\n",
      "[CV] max_features=auto, min_samples_split=4, n_estimators=500 ........\n",
      "[CV]  max_features=auto, min_samples_split=4, n_estimators=500, score=0.767, total=   2.3s\n",
      "[CV] max_features=auto, min_samples_split=5, n_estimators=100 ........\n",
      "[CV]  max_features=auto, min_samples_split=5, n_estimators=100, score=0.867, total=   0.3s\n",
      "[CV] max_features=auto, min_samples_split=5, n_estimators=200 ........\n",
      "[CV]  max_features=auto, min_samples_split=5, n_estimators=200, score=0.867, total=   0.7s\n",
      "[CV] max_features=auto, min_samples_split=5, n_estimators=300 ........\n",
      "[CV]  max_features=auto, min_samples_split=5, n_estimators=300, score=0.867, total=   1.0s\n",
      "[CV] max_features=auto, min_samples_split=5, n_estimators=500 ........\n",
      "[CV]  max_features=auto, min_samples_split=5, n_estimators=500, score=0.850, total=   1.7s\n",
      "[CV] max_features=auto, min_samples_split=6, n_estimators=100 ........\n",
      "[CV]  max_features=auto, min_samples_split=6, n_estimators=100, score=0.867, total=   0.3s\n",
      "[CV] max_features=auto, min_samples_split=6, n_estimators=200 ........\n",
      "[CV]  max_features=auto, min_samples_split=6, n_estimators=200, score=0.833, total=   0.7s\n",
      "[CV] max_features=auto, min_samples_split=6, n_estimators=300 ........\n",
      "[CV]  max_features=auto, min_samples_split=6, n_estimators=300, score=0.850, total=   1.0s\n",
      "[CV] max_features=auto, min_samples_split=6, n_estimators=500 ........\n",
      "[CV]  max_features=auto, min_samples_split=6, n_estimators=500, score=0.850, total=   1.7s\n",
      "[CV] max_features=sqrt, min_samples_split=2, n_estimators=100 ........\n",
      "[CV]  max_features=sqrt, min_samples_split=2, n_estimators=100, score=0.833, total=   0.3s\n",
      "[CV] max_features=sqrt, min_samples_split=2, n_estimators=200 ........\n",
      "[CV]  max_features=sqrt, min_samples_split=2, n_estimators=200, score=0.867, total=   0.7s\n",
      "[CV] max_features=sqrt, min_samples_split=2, n_estimators=300 ........\n",
      "[CV]  max_features=sqrt, min_samples_split=2, n_estimators=300, score=0.833, total=   1.0s\n",
      "[CV] max_features=sqrt, min_samples_split=2, n_estimators=500 ........\n",
      "[CV]  max_features=sqrt, min_samples_split=2, n_estimators=500, score=0.867, total=   1.8s\n",
      "[CV] max_features=sqrt, min_samples_split=3, n_estimators=100 ........\n",
      "[CV]  max_features=sqrt, min_samples_split=3, n_estimators=100, score=0.817, total=   0.3s\n",
      "[CV] max_features=sqrt, min_samples_split=3, n_estimators=200 ........\n",
      "[CV]  max_features=sqrt, min_samples_split=3, n_estimators=200, score=0.867, total=   0.7s\n",
      "[CV] max_features=sqrt, min_samples_split=3, n_estimators=300 ........\n",
      "[CV]  max_features=sqrt, min_samples_split=3, n_estimators=300, score=0.850, total=   1.0s\n",
      "[CV] max_features=sqrt, min_samples_split=3, n_estimators=500 ........\n",
      "[CV]  max_features=sqrt, min_samples_split=3, n_estimators=500, score=0.850, total=   1.7s\n",
      "[CV] max_features=sqrt, min_samples_split=4, n_estimators=100 ........\n",
      "[CV]  max_features=sqrt, min_samples_split=4, n_estimators=100, score=0.867, total=   0.3s\n",
      "[CV] max_features=sqrt, min_samples_split=4, n_estimators=200 ........\n",
      "[CV]  max_features=sqrt, min_samples_split=4, n_estimators=200, score=0.883, total=   0.7s\n",
      "[CV] max_features=sqrt, min_samples_split=4, n_estimators=300 ........\n",
      "[CV]  max_features=sqrt, min_samples_split=4, n_estimators=300, score=0.883, total=   1.0s\n",
      "[CV] max_features=sqrt, min_samples_split=4, n_estimators=500 ........\n",
      "[CV]  max_features=sqrt, min_samples_split=4, n_estimators=500, score=0.850, total=   1.7s\n",
      "[CV] max_features=sqrt, min_samples_split=5, n_estimators=100 ........\n",
      "[CV]  max_features=sqrt, min_samples_split=5, n_estimators=100, score=0.833, total=   0.3s\n",
      "[CV] max_features=sqrt, min_samples_split=5, n_estimators=200 ........\n",
      "[CV]  max_features=sqrt, min_samples_split=5, n_estimators=200, score=0.867, total=   0.7s\n",
      "[CV] max_features=sqrt, min_samples_split=5, n_estimators=300 ........\n",
      "[CV]  max_features=sqrt, min_samples_split=5, n_estimators=300, score=0.833, total=   1.1s\n",
      "[CV] max_features=sqrt, min_samples_split=5, n_estimators=500 ........\n",
      "[CV]  max_features=sqrt, min_samples_split=5, n_estimators=500, score=0.850, total=   1.7s\n",
      "[CV] max_features=sqrt, min_samples_split=6, n_estimators=100 ........\n",
      "[CV]  max_features=sqrt, min_samples_split=6, n_estimators=100, score=0.883, total=   0.3s\n",
      "[CV] max_features=sqrt, min_samples_split=6, n_estimators=200 ........\n",
      "[CV]  max_features=sqrt, min_samples_split=6, n_estimators=200, score=0.850, total=   0.7s\n",
      "[CV] max_features=sqrt, min_samples_split=6, n_estimators=300 ........\n",
      "[CV]  max_features=sqrt, min_samples_split=6, n_estimators=300, score=0.850, total=   1.0s\n",
      "[CV] max_features=sqrt, min_samples_split=6, n_estimators=500 ........\n",
      "[CV]  max_features=sqrt, min_samples_split=6, n_estimators=500, score=0.850, total=   1.7s\n",
      "[CV] max_features=log2, min_samples_split=2, n_estimators=100 ........\n",
      "[CV]  max_features=log2, min_samples_split=2, n_estimators=100, score=0.850, total=   0.3s\n",
      "[CV] max_features=log2, min_samples_split=2, n_estimators=200 ........\n",
      "[CV]  max_features=log2, min_samples_split=2, n_estimators=200, score=0.833, total=   0.7s\n",
      "[CV] max_features=log2, min_samples_split=2, n_estimators=300 ........\n",
      "[CV]  max_features=log2, min_samples_split=2, n_estimators=300, score=0.867, total=   1.0s\n",
      "[CV] max_features=log2, min_samples_split=2, n_estimators=500 ........\n",
      "[CV]  max_features=log2, min_samples_split=2, n_estimators=500, score=0.867, total=   1.7s\n",
      "[CV] max_features=log2, min_samples_split=3, n_estimators=100 ........\n",
      "[CV]  max_features=log2, min_samples_split=3, n_estimators=100, score=0.833, total=   0.4s\n",
      "[CV] max_features=log2, min_samples_split=3, n_estimators=200 ........\n",
      "[CV]  max_features=log2, min_samples_split=3, n_estimators=200, score=0.867, total=   1.0s\n",
      "[CV] max_features=log2, min_samples_split=3, n_estimators=300 ........\n",
      "[CV]  max_features=log2, min_samples_split=3, n_estimators=300, score=0.850, total=   1.2s\n",
      "[CV] max_features=log2, min_samples_split=3, n_estimators=500 ........\n",
      "[CV]  max_features=log2, min_samples_split=3, n_estimators=500, score=0.850, total=   1.7s\n",
      "[CV] max_features=log2, min_samples_split=4, n_estimators=100 ........\n",
      "[CV]  max_features=log2, min_samples_split=4, n_estimators=100, score=0.850, total=   0.3s\n",
      "[CV] max_features=log2, min_samples_split=4, n_estimators=200 ........\n",
      "[CV]  max_features=log2, min_samples_split=4, n_estimators=200, score=0.833, total=   0.7s\n",
      "[CV] max_features=log2, min_samples_split=4, n_estimators=300 ........\n",
      "[CV]  max_features=log2, min_samples_split=4, n_estimators=300, score=0.850, total=   1.1s[CV] max_features=auto, min_samples_split=2, n_estimators=100 ........\n",
      "[CV]  max_features=auto, min_samples_split=2, n_estimators=100, score=0.817, total=   0.3s\n",
      "[CV] max_features=auto, min_samples_split=2, n_estimators=200 ........\n",
      "[CV]  max_features=auto, min_samples_split=2, n_estimators=200, score=0.767, total=   0.7s\n",
      "[CV] max_features=auto, min_samples_split=2, n_estimators=300 ........\n",
      "[CV]  max_features=auto, min_samples_split=2, n_estimators=300, score=0.767, total=   1.0s\n",
      "[CV] max_features=auto, min_samples_split=2, n_estimators=500 ........\n",
      "[CV]  max_features=auto, min_samples_split=2, n_estimators=500, score=0.783, total=   1.8s\n",
      "[CV] max_features=auto, min_samples_split=3, n_estimators=100 ........\n",
      "[CV]  max_features=auto, min_samples_split=3, n_estimators=100, score=0.750, total=   0.4s\n",
      "[CV] max_features=auto, min_samples_split=3, n_estimators=200 ........\n",
      "[CV]  max_features=auto, min_samples_split=3, n_estimators=200, score=0.767, total=   0.8s\n",
      "[CV] max_features=auto, min_samples_split=3, n_estimators=300 ........\n",
      "[CV]  max_features=auto, min_samples_split=3, n_estimators=300, score=0.783, total=   1.0s\n",
      "[CV] max_features=auto, min_samples_split=3, n_estimators=500 ........\n",
      "[CV]  max_features=auto, min_samples_split=3, n_estimators=500, score=0.767, total=   1.7s\n",
      "[CV] max_features=auto, min_samples_split=4, n_estimators=100 ........\n",
      "[CV]  max_features=auto, min_samples_split=4, n_estimators=100, score=0.800, total=   0.3s\n",
      "[CV] max_features=auto, min_samples_split=4, n_estimators=200 ........\n",
      "[CV]  max_features=auto, min_samples_split=4, n_estimators=200, score=0.817, total=   0.7s\n",
      "[CV] max_features=auto, min_samples_split=4, n_estimators=300 ........\n",
      "[CV]  max_features=auto, min_samples_split=4, n_estimators=300, score=0.783, total=   1.0s\n",
      "[CV] max_features=auto, min_samples_split=4, n_estimators=500 ........\n",
      "[CV]  max_features=auto, min_samples_split=4, n_estimators=500, score=0.800, total=   2.4s\n",
      "[CV] max_features=auto, min_samples_split=5, n_estimators=200 ........\n",
      "[CV]  max_features=auto, min_samples_split=5, n_estimators=200, score=0.738, total=   0.7s\n",
      "[CV] max_features=auto, min_samples_split=5, n_estimators=300 ........\n",
      "[CV]  max_features=auto, min_samples_split=5, n_estimators=300, score=0.754, total=   1.0s\n",
      "[CV] max_features=auto, min_samples_split=5, n_estimators=500 ........\n",
      "[CV]  max_features=auto, min_samples_split=5, n_estimators=500, score=0.783, total=   1.7s\n",
      "[CV] max_features=auto, min_samples_split=6, n_estimators=100 ........\n",
      "[CV]  max_features=auto, min_samples_split=6, n_estimators=100, score=0.783, total=   0.3s\n",
      "[CV] max_features=auto, min_samples_split=6, n_estimators=200 ........\n",
      "[CV]  max_features=auto, min_samples_split=6, n_estimators=200, score=0.783, total=   0.7s\n",
      "[CV] max_features=auto, min_samples_split=6, n_estimators=300 ........\n",
      "[CV]  max_features=auto, min_samples_split=6, n_estimators=300, score=0.767, total=   1.0s\n",
      "[CV] max_features=auto, min_samples_split=6, n_estimators=500 ........\n",
      "[CV]  max_features=auto, min_samples_split=6, n_estimators=500, score=0.783, total=   1.7s\n",
      "[CV] max_features=sqrt, min_samples_split=2, n_estimators=100 ........\n",
      "[CV]  max_features=sqrt, min_samples_split=2, n_estimators=100, score=0.767, total=   0.3s\n",
      "[CV] max_features=sqrt, min_samples_split=2, n_estimators=200 ........\n",
      "[CV]  max_features=sqrt, min_samples_split=2, n_estimators=200, score=0.783, total=   0.7s\n",
      "[CV] max_features=sqrt, min_samples_split=2, n_estimators=300 ........\n",
      "[CV]  max_features=sqrt, min_samples_split=2, n_estimators=300, score=0.800, total=   1.0s\n",
      "[CV] max_features=sqrt, min_samples_split=2, n_estimators=500 ........\n",
      "[CV]  max_features=sqrt, min_samples_split=2, n_estimators=500, score=0.800, total=   1.8s\n",
      "[CV] max_features=sqrt, min_samples_split=3, n_estimators=100 ........\n",
      "[CV]  max_features=sqrt, min_samples_split=3, n_estimators=100, score=0.800, total=   0.3s\n",
      "[CV] max_features=sqrt, min_samples_split=3, n_estimators=200 ........\n",
      "[CV]  max_features=sqrt, min_samples_split=3, n_estimators=200, score=0.783, total=   0.7s\n",
      "[CV] max_features=sqrt, min_samples_split=3, n_estimators=300 ........\n",
      "[CV]  max_features=sqrt, min_samples_split=3, n_estimators=300, score=0.800, total=   1.0s\n",
      "[CV] max_features=sqrt, min_samples_split=3, n_estimators=500 ........\n",
      "[CV]  max_features=sqrt, min_samples_split=3, n_estimators=500, score=0.800, total=   1.7s\n",
      "[CV] max_features=sqrt, min_samples_split=4, n_estimators=100 ........\n",
      "[CV]  max_features=sqrt, min_samples_split=4, n_estimators=100, score=0.783, total=   0.3s\n",
      "[CV] max_features=sqrt, min_samples_split=4, n_estimators=200 ........\n",
      "[CV]  max_features=sqrt, min_samples_split=4, n_estimators=200, score=0.783, total=   0.7s\n",
      "[CV] max_features=sqrt, min_samples_split=4, n_estimators=300 ........\n",
      "[CV]  max_features=sqrt, min_samples_split=4, n_estimators=300, score=0.767, total=   1.0s\n",
      "[CV] max_features=sqrt, min_samples_split=4, n_estimators=500 ........\n",
      "[CV]  max_features=sqrt, min_samples_split=4, n_estimators=500, score=0.767, total=   1.7s\n",
      "[CV] max_features=sqrt, min_samples_split=5, n_estimators=100 ........\n",
      "[CV]  max_features=sqrt, min_samples_split=5, n_estimators=100, score=0.783, total=   0.3s\n",
      "[CV] max_features=sqrt, min_samples_split=5, n_estimators=200 ........\n",
      "[CV]  max_features=sqrt, min_samples_split=5, n_estimators=200, score=0.783, total=   0.7s\n",
      "[CV] max_features=sqrt, min_samples_split=5, n_estimators=300 ........\n",
      "[CV]  max_features=sqrt, min_samples_split=5, n_estimators=300, score=0.767, total=   1.1s\n",
      "[CV] max_features=sqrt, min_samples_split=5, n_estimators=500 ........\n",
      "[CV]  max_features=sqrt, min_samples_split=5, n_estimators=500, score=0.767, total=   1.7s\n",
      "[CV] max_features=sqrt, min_samples_split=6, n_estimators=100 ........\n",
      "[CV]  max_features=sqrt, min_samples_split=6, n_estimators=100, score=0.800, total=   0.3s\n",
      "[CV] max_features=sqrt, min_samples_split=6, n_estimators=200 ........\n",
      "[CV]  max_features=sqrt, min_samples_split=6, n_estimators=200, score=0.783, total=   0.7s\n",
      "[CV] max_features=sqrt, min_samples_split=6, n_estimators=300 ........\n",
      "[CV]  max_features=sqrt, min_samples_split=6, n_estimators=300, score=0.767, total=   1.0s\n",
      "[CV] max_features=sqrt, min_samples_split=6, n_estimators=500 ........\n",
      "[CV]  max_features=sqrt, min_samples_split=6, n_estimators=500, score=0.767, total=   1.7s\n",
      "[CV] max_features=log2, min_samples_split=2, n_estimators=100 ........\n",
      "[CV]  max_features=log2, min_samples_split=2, n_estimators=100, score=0.817, total=   0.3s\n",
      "[CV] max_features=log2, min_samples_split=2, n_estimators=200 ........\n",
      "[CV]  max_features=log2, min_samples_split=2, n_estimators=200, score=0.800, total=   0.7s\n",
      "[CV] max_features=log2, min_samples_split=2, n_estimators=300 ........\n",
      "[CV]  max_features=log2, min_samples_split=2, n_estimators=300, score=0.800, total=   1.0s\n",
      "[CV] max_features=log2, min_samples_split=2, n_estimators=500 ........\n",
      "[CV]  max_features=log2, min_samples_split=2, n_estimators=500, score=0.800, total=   1.7s\n",
      "[CV] max_features=log2, min_samples_split=3, n_estimators=100 ........\n",
      "[CV]  max_features=log2, min_samples_split=3, n_estimators=100, score=0.817, total=   0.3s\n",
      "[CV] max_features=log2, min_samples_split=3, n_estimators=200 ........\n",
      "[CV]  max_features=log2, min_samples_split=3, n_estimators=200, score=0.783, total=   0.9s\n",
      "[CV] max_features=log2, min_samples_split=3, n_estimators=300 ........\n",
      "[CV]  max_features=log2, min_samples_split=3, n_estimators=300, score=0.783, total=   1.3s\n",
      "[CV] max_features=log2, min_samples_split=3, n_estimators=500 ........\n",
      "[CV]  max_features=log2, min_samples_split=3, n_estimators=500, score=0.767, total=   1.7s\n",
      "[CV] max_features=log2, min_samples_split=4, n_estimators=100 ........\n",
      "[CV]  max_features=log2, min_samples_split=4, n_estimators=100, score=0.767, total=   0.3s\n",
      "[CV] max_features=log2, min_samples_split=4, n_estimators=200 ........\n",
      "[CV]  max_features=log2, min_samples_split=4, n_estimators=200, score=0.800, total=   0.7s\n",
      "[CV] max_features=log2, min_samples_split=4, n_estimators=300 ........\n",
      "[CV]  max_features=log2, min_samples_split=4, n_estimators=300, score=0.817, total=   1.1s\n",
      "[CV] max_features=log2, min_samples_split=4, n_estimators=500 ........\n",
      "[CV]  max_features=log2, min_samples_split=4, n_estimators=500, score=0.800, total=   1.7s"
     ]
    },
    {
     "name": "stderr",
     "output_type": "stream",
     "text": [
      "[Parallel(n_jobs=-1)]: Done 213 tasks      | elapsed:   53.9s\n",
      "[Parallel(n_jobs=-1)]: Done 240 out of 240 | elapsed:  1.0min finished\n"
     ]
    },
    {
     "data": {
      "text/plain": [
       "GridSearchCV(cv=4, estimator=RandomForestClassifier(), n_jobs=-1,\n",
       "             param_grid={'max_features': ('auto', 'sqrt', 'log2'),\n",
       "                         'min_samples_split': (2, 3, 4, 5, 6),\n",
       "                         'n_estimators': (100, 200, 300, 500)},\n",
       "             verbose=4)"
      ]
     },
     "execution_count": 30,
     "metadata": {},
     "output_type": "execute_result"
    }
   ],
   "source": [
    "# HyperParameter Tunning\n",
    "from sklearn.model_selection import GridSearchCV\n",
    "\n",
    "param = {'n_estimators' : (100,200,300,500),\n",
    "          'min_samples_split' : (2,3,4,5,6),\n",
    "          'max_features' : ('auto','sqrt','log2')}\n",
    "\n",
    "RFC = rfc()\n",
    "gsv = GridSearchCV(estimator = RFC, param_grid = param, cv = 4,n_jobs = -1, verbose =4)\n",
    "\n",
    "gsv.fit(X_train,y_train)"
   ]
  },
  {
   "cell_type": "code",
   "execution_count": 31,
   "id": "d807c194",
   "metadata": {
    "execution": {
     "iopub.execute_input": "2023-07-14T21:30:18.501596Z",
     "iopub.status.busy": "2023-07-14T21:30:18.500599Z",
     "iopub.status.idle": "2023-07-14T21:30:18.504198Z",
     "shell.execute_reply": "2023-07-14T21:30:18.504808Z",
     "shell.execute_reply.started": "2023-07-14T21:24:42.705452Z"
    },
    "papermill": {
     "duration": 0.069585,
     "end_time": "2023-07-14T21:30:18.505013",
     "exception": false,
     "start_time": "2023-07-14T21:30:18.435428",
     "status": "completed"
    },
    "tags": []
   },
   "outputs": [
    {
     "data": {
      "text/plain": [
       "({'max_features': 'auto', 'min_samples_split': 5, 'n_estimators': 100},\n",
       " 0.8133879781420765)"
      ]
     },
     "execution_count": 31,
     "metadata": {},
     "output_type": "execute_result"
    }
   ],
   "source": [
    "gsv.best_params_, gsv.best_score_"
   ]
  },
  {
   "cell_type": "code",
   "execution_count": 32,
   "id": "c80bed4f",
   "metadata": {
    "execution": {
     "iopub.execute_input": "2023-07-14T21:30:18.633015Z",
     "iopub.status.busy": "2023-07-14T21:30:18.627599Z",
     "iopub.status.idle": "2023-07-14T21:30:18.862989Z",
     "shell.execute_reply": "2023-07-14T21:30:18.862199Z",
     "shell.execute_reply.started": "2023-07-14T21:26:17.886110Z"
    },
    "papermill": {
     "duration": 0.299383,
     "end_time": "2023-07-14T21:30:18.863172",
     "exception": false,
     "start_time": "2023-07-14T21:30:18.563789",
     "status": "completed"
    },
    "tags": []
   },
   "outputs": [],
   "source": [
    "RFC_Best = gsv.best_estimator_.fit(X_train,y_train)\n",
    "yhat_best = RFC_Best.predict(X_test)"
   ]
  },
  {
   "cell_type": "code",
   "execution_count": 33,
   "id": "3e02742b",
   "metadata": {
    "execution": {
     "iopub.execute_input": "2023-07-14T21:30:19.000612Z",
     "iopub.status.busy": "2023-07-14T21:30:18.999673Z",
     "iopub.status.idle": "2023-07-14T21:30:19.330861Z",
     "shell.execute_reply": "2023-07-14T21:30:19.330157Z",
     "shell.execute_reply.started": "2023-07-14T21:27:56.487568Z"
    },
    "papermill": {
     "duration": 0.408134,
     "end_time": "2023-07-14T21:30:19.331031",
     "exception": false,
     "start_time": "2023-07-14T21:30:18.922897",
     "status": "completed"
    },
    "tags": []
   },
   "outputs": [
    {
     "name": "stdout",
     "output_type": "stream",
     "text": [
      "[[19  9]\n",
      " [ 6 27]]\n",
      "              precision    recall  f1-score   support\n",
      "\n",
      "           0       0.76      0.68      0.72        28\n",
      "           1       0.75      0.82      0.78        33\n",
      "\n",
      "    accuracy                           0.75        61\n",
      "   macro avg       0.76      0.75      0.75        61\n",
      "weighted avg       0.75      0.75      0.75        61\n",
      "\n"
     ]
    },
    {
     "data": {
      "image/png": "[encoded data removed]",
      "text/plain": [
       "<Figure size 432x288 with 2 Axes>"
      ]
     },
     "metadata": {
      "needs_background": "light"
     },
     "output_type": "display_data"
    }
   ],
   "source": [
    "print(confusion_matrix(y_test, yhat_best))\n",
    "\n",
    "ax = sns.heatmap(confusion_matrix(y_test, yhat_best), annot = True, cmap = 'Blues')\n",
    "ax.set_title('Seaborn Confusion Matrix with labels\\n\\n');\n",
    "ax.set_xlabel('\\nPredicted Values')\n",
    "ax.set_ylabel('Actual Values ');\n",
    "\n",
    "ax.xaxis.set_ticklabels(['False','True'])\n",
    "ax.yaxis.set_ticklabels(['False','True'])\n",
    "\n",
    "print(classification_report(y_test,yhat_best))"
   ]
  }
 ],
 "metadata": {
  "kernelspec": {
   "display_name": "Python 3",
   "language": "python",
   "name": "python3"
  },
  "language_info": {
   "codemirror_mode": {
    "name": "ipython",
    "version": 3
   },
   "file_extension": ".py",
   "mimetype": "text/x-python",
   "name": "python",
   "nbconvert_exporter": "python",
   "pygments_lexer": "ipython3",
   "version": "3.7.10"
  },
  "papermill": {
   "default_parameters": {},
   "duration": 84.709579,
   "end_time": "2023-07-14T21:30:20.304136",
   "environment_variables": {},
   "exception": null,
   "input_path": "__notebook__.ipynb",
   "output_path": "__notebook__.ipynb",
   "parameters": {},
   "start_time": "2023-07-14T21:28:55.594557",
   "version": "2.3.3"
  }
 },
 "nbformat": 4,
 "nbformat_minor": 5
}
